{
  "nbformat": 4,
  "nbformat_minor": 0,
  "metadata": {
    "colab": {
      "name": "Fraud_Detection_Binary_Classification.ipynb",
      "provenance": [],
      "collapsed_sections": [],
      "toc_visible": true
    },
    "kernelspec": {
      "name": "python3",
      "display_name": "Python 3"
    }
  },
  "cells": [
    {
      "cell_type": "markdown",
      "metadata": {
        "id": "u4x8Z3nGhHEg",
        "colab_type": "text"
      },
      "source": [
        "# Fraud Detection Using Binary Classification"
      ]
    },
    {
      "cell_type": "code",
      "metadata": {
        "id": "YD8byiTFhDSb",
        "colab_type": "code",
        "colab": {}
      },
      "source": [
        "# Import modules\n",
        "import pandas as pd\n",
        "import numpy as np\n",
        "import matplotlib.pyplot as plt\n",
        "\n",
        "import os\n",
        "import json\n",
        "\n",
        "import tensorflow as tf\n",
        "from tensorflow import keras\n",
        "\n",
        "from sklearn.model_selection import cross_val_score\n",
        "from sklearn.metrics import roc_curve\n",
        "from sklearn.metrics import confusion_matrix\n",
        "from sklearn.metrics import classification_report\n",
        "from sklearn.model_selection import train_test_split\n",
        "\n",
        "from sklearn.linear_model import LogisticRegression\n",
        "from sklearn.neighbors import KNeighborsClassifier\n",
        "from sklearn.ensemble import RandomForestClassifier"
      ],
      "execution_count": 1,
      "outputs": []
    },
    {
      "cell_type": "code",
      "metadata": {
        "id": "bzg_bjUnhOo2",
        "colab_type": "code",
        "colab": {}
      },
      "source": [
        "# Import Data\n",
        "df = pd.read_csv('drive/My Drive/zz_fraud_detection/fraud_data.csv')"
      ],
      "execution_count": 2,
      "outputs": []
    },
    {
      "cell_type": "code",
      "metadata": {
        "id": "2eQfMSKKjwiY",
        "colab_type": "code",
        "colab": {
          "base_uri": "https://localhost:8080/",
          "height": 137
        },
        "outputId": "194eff54-f018-41db-eced-f30e9de7d191"
      },
      "source": [
        "df.head(3)"
      ],
      "execution_count": 3,
      "outputs": [
        {
          "output_type": "execute_result",
          "data": {
            "text/html": [
              "<div>\n",
              "<style scoped>\n",
              "    .dataframe tbody tr th:only-of-type {\n",
              "        vertical-align: middle;\n",
              "    }\n",
              "\n",
              "    .dataframe tbody tr th {\n",
              "        vertical-align: top;\n",
              "    }\n",
              "\n",
              "    .dataframe thead th {\n",
              "        text-align: right;\n",
              "    }\n",
              "</style>\n",
              "<table border=\"1\" class=\"dataframe\">\n",
              "  <thead>\n",
              "    <tr style=\"text-align: right;\">\n",
              "      <th></th>\n",
              "      <th>step</th>\n",
              "      <th>type</th>\n",
              "      <th>amount</th>\n",
              "      <th>nameOrig</th>\n",
              "      <th>oldbalanceOrg</th>\n",
              "      <th>newbalanceOrig</th>\n",
              "      <th>nameDest</th>\n",
              "      <th>oldbalanceDest</th>\n",
              "      <th>newbalanceDest</th>\n",
              "      <th>isFraud</th>\n",
              "      <th>isFlaggedFraud</th>\n",
              "    </tr>\n",
              "  </thead>\n",
              "  <tbody>\n",
              "    <tr>\n",
              "      <th>0</th>\n",
              "      <td>1</td>\n",
              "      <td>PAYMENT</td>\n",
              "      <td>9839.64</td>\n",
              "      <td>C1231006815</td>\n",
              "      <td>170136.0</td>\n",
              "      <td>160296.36</td>\n",
              "      <td>M1979787155</td>\n",
              "      <td>0.0</td>\n",
              "      <td>0.0</td>\n",
              "      <td>0</td>\n",
              "      <td>0</td>\n",
              "    </tr>\n",
              "    <tr>\n",
              "      <th>1</th>\n",
              "      <td>1</td>\n",
              "      <td>PAYMENT</td>\n",
              "      <td>1864.28</td>\n",
              "      <td>C1666544295</td>\n",
              "      <td>21249.0</td>\n",
              "      <td>19384.72</td>\n",
              "      <td>M2044282225</td>\n",
              "      <td>0.0</td>\n",
              "      <td>0.0</td>\n",
              "      <td>0</td>\n",
              "      <td>0</td>\n",
              "    </tr>\n",
              "    <tr>\n",
              "      <th>2</th>\n",
              "      <td>1</td>\n",
              "      <td>TRANSFER</td>\n",
              "      <td>181.00</td>\n",
              "      <td>C1305486145</td>\n",
              "      <td>181.0</td>\n",
              "      <td>0.00</td>\n",
              "      <td>C553264065</td>\n",
              "      <td>0.0</td>\n",
              "      <td>0.0</td>\n",
              "      <td>1</td>\n",
              "      <td>0</td>\n",
              "    </tr>\n",
              "  </tbody>\n",
              "</table>\n",
              "</div>"
            ],
            "text/plain": [
              "   step      type   amount  ... newbalanceDest  isFraud  isFlaggedFraud\n",
              "0     1   PAYMENT  9839.64  ...            0.0        0               0\n",
              "1     1   PAYMENT  1864.28  ...            0.0        0               0\n",
              "2     1  TRANSFER   181.00  ...            0.0        1               0\n",
              "\n",
              "[3 rows x 11 columns]"
            ]
          },
          "metadata": {
            "tags": []
          },
          "execution_count": 3
        }
      ]
    },
    {
      "cell_type": "code",
      "metadata": {
        "id": "CZNIStwXi91j",
        "colab_type": "code",
        "colab": {
          "base_uri": "https://localhost:8080/",
          "height": 217
        },
        "outputId": "0602af96-7dee-48ae-de65-8e9a5d24e64c"
      },
      "source": [
        "df.isna().sum() # No missing data points"
      ],
      "execution_count": 4,
      "outputs": [
        {
          "output_type": "execute_result",
          "data": {
            "text/plain": [
              "step              0\n",
              "type              0\n",
              "amount            0\n",
              "nameOrig          0\n",
              "oldbalanceOrg     0\n",
              "newbalanceOrig    0\n",
              "nameDest          0\n",
              "oldbalanceDest    0\n",
              "newbalanceDest    0\n",
              "isFraud           0\n",
              "isFlaggedFraud    0\n",
              "dtype: int64"
            ]
          },
          "metadata": {
            "tags": []
          },
          "execution_count": 4
        }
      ]
    },
    {
      "cell_type": "markdown",
      "metadata": {
        "id": "3SFGjeYxjgzs",
        "colab_type": "text"
      },
      "source": [
        "# Setup data for ML"
      ]
    },
    {
      "cell_type": "code",
      "metadata": {
        "id": "3IsSVbO9kFHM",
        "colab_type": "code",
        "colab": {
          "base_uri": "https://localhost:8080/",
          "height": 197
        },
        "outputId": "664d510c-863e-46dc-f873-657bd483f4e2"
      },
      "source": [
        "df_temp = df.copy()\n",
        "df_temp.drop(['nameOrig','nameDest'],axis=1, inplace=True)\n",
        "df_temp.head(5)"
      ],
      "execution_count": 5,
      "outputs": [
        {
          "output_type": "execute_result",
          "data": {
            "text/html": [
              "<div>\n",
              "<style scoped>\n",
              "    .dataframe tbody tr th:only-of-type {\n",
              "        vertical-align: middle;\n",
              "    }\n",
              "\n",
              "    .dataframe tbody tr th {\n",
              "        vertical-align: top;\n",
              "    }\n",
              "\n",
              "    .dataframe thead th {\n",
              "        text-align: right;\n",
              "    }\n",
              "</style>\n",
              "<table border=\"1\" class=\"dataframe\">\n",
              "  <thead>\n",
              "    <tr style=\"text-align: right;\">\n",
              "      <th></th>\n",
              "      <th>step</th>\n",
              "      <th>type</th>\n",
              "      <th>amount</th>\n",
              "      <th>oldbalanceOrg</th>\n",
              "      <th>newbalanceOrig</th>\n",
              "      <th>oldbalanceDest</th>\n",
              "      <th>newbalanceDest</th>\n",
              "      <th>isFraud</th>\n",
              "      <th>isFlaggedFraud</th>\n",
              "    </tr>\n",
              "  </thead>\n",
              "  <tbody>\n",
              "    <tr>\n",
              "      <th>0</th>\n",
              "      <td>1</td>\n",
              "      <td>PAYMENT</td>\n",
              "      <td>9839.64</td>\n",
              "      <td>170136.0</td>\n",
              "      <td>160296.36</td>\n",
              "      <td>0.0</td>\n",
              "      <td>0.0</td>\n",
              "      <td>0</td>\n",
              "      <td>0</td>\n",
              "    </tr>\n",
              "    <tr>\n",
              "      <th>1</th>\n",
              "      <td>1</td>\n",
              "      <td>PAYMENT</td>\n",
              "      <td>1864.28</td>\n",
              "      <td>21249.0</td>\n",
              "      <td>19384.72</td>\n",
              "      <td>0.0</td>\n",
              "      <td>0.0</td>\n",
              "      <td>0</td>\n",
              "      <td>0</td>\n",
              "    </tr>\n",
              "    <tr>\n",
              "      <th>2</th>\n",
              "      <td>1</td>\n",
              "      <td>TRANSFER</td>\n",
              "      <td>181.00</td>\n",
              "      <td>181.0</td>\n",
              "      <td>0.00</td>\n",
              "      <td>0.0</td>\n",
              "      <td>0.0</td>\n",
              "      <td>1</td>\n",
              "      <td>0</td>\n",
              "    </tr>\n",
              "    <tr>\n",
              "      <th>3</th>\n",
              "      <td>1</td>\n",
              "      <td>CASH_OUT</td>\n",
              "      <td>181.00</td>\n",
              "      <td>181.0</td>\n",
              "      <td>0.00</td>\n",
              "      <td>21182.0</td>\n",
              "      <td>0.0</td>\n",
              "      <td>1</td>\n",
              "      <td>0</td>\n",
              "    </tr>\n",
              "    <tr>\n",
              "      <th>4</th>\n",
              "      <td>1</td>\n",
              "      <td>PAYMENT</td>\n",
              "      <td>11668.14</td>\n",
              "      <td>41554.0</td>\n",
              "      <td>29885.86</td>\n",
              "      <td>0.0</td>\n",
              "      <td>0.0</td>\n",
              "      <td>0</td>\n",
              "      <td>0</td>\n",
              "    </tr>\n",
              "  </tbody>\n",
              "</table>\n",
              "</div>"
            ],
            "text/plain": [
              "   step      type    amount  ...  newbalanceDest  isFraud  isFlaggedFraud\n",
              "0     1   PAYMENT   9839.64  ...             0.0        0               0\n",
              "1     1   PAYMENT   1864.28  ...             0.0        0               0\n",
              "2     1  TRANSFER    181.00  ...             0.0        1               0\n",
              "3     1  CASH_OUT    181.00  ...             0.0        1               0\n",
              "4     1   PAYMENT  11668.14  ...             0.0        0               0\n",
              "\n",
              "[5 rows x 9 columns]"
            ]
          },
          "metadata": {
            "tags": []
          },
          "execution_count": 5
        }
      ]
    },
    {
      "cell_type": "code",
      "metadata": {
        "id": "CT652yDrjmrf",
        "colab_type": "code",
        "colab": {}
      },
      "source": [
        "# Turn categorical variables into numbers\n",
        "for label, content in df_temp.items():\n",
        "    if not pd.api.types.is_numeric_dtype(content):\n",
        "        # # Add binary column to inidicate whether sample had missing value\n",
        "        # df_temp[label+\"_is_missing\"] = pd.isnull(content)\n",
        "        # missing categories set as -1\n",
        "        df_temp[label] = pd.Categorical(content).codes + 1  "
      ],
      "execution_count": 6,
      "outputs": []
    },
    {
      "cell_type": "code",
      "metadata": {
        "id": "yGNBQ3-NlEpS",
        "colab_type": "code",
        "colab": {
          "base_uri": "https://localhost:8080/",
          "height": 167
        },
        "outputId": "039d9139-af3e-4e7d-98d5-40058fcc367e"
      },
      "source": [
        "print(df_temp.head(5)) # Check new data\n",
        "print(df_temp['isFlaggedFraud'].unique()) # Make sure there are some flagged"
      ],
      "execution_count": 7,
      "outputs": [
        {
          "output_type": "stream",
          "text": [
            "   step  type    amount  ...  newbalanceDest  isFraud  isFlaggedFraud\n",
            "0     1     4   9839.64  ...             0.0        0               0\n",
            "1     1     4   1864.28  ...             0.0        0               0\n",
            "2     1     5    181.00  ...             0.0        1               0\n",
            "3     1     2    181.00  ...             0.0        1               0\n",
            "4     1     4  11668.14  ...             0.0        0               0\n",
            "\n",
            "[5 rows x 9 columns]\n",
            "[0 1]\n"
          ],
          "name": "stdout"
        }
      ]
    },
    {
      "cell_type": "code",
      "metadata": {
        "id": "9JS9P8TolG94",
        "colab_type": "code",
        "colab": {}
      },
      "source": [
        "X = df_temp.drop('isFraud',axis=1)\n",
        "y = df_temp['isFraud']"
      ],
      "execution_count": 8,
      "outputs": []
    },
    {
      "cell_type": "code",
      "metadata": {
        "id": "wKJM70Kmlfem",
        "colab_type": "code",
        "colab": {
          "base_uri": "https://localhost:8080/",
          "height": 183
        },
        "outputId": "324082c7-3db2-404e-d85f-815271faa66e"
      },
      "source": [
        "print(X.head(3))\n",
        "print(y.head(3))"
      ],
      "execution_count": 9,
      "outputs": [
        {
          "output_type": "stream",
          "text": [
            "   step  type   amount  ...  oldbalanceDest  newbalanceDest  isFlaggedFraud\n",
            "0     1     4  9839.64  ...             0.0             0.0               0\n",
            "1     1     4  1864.28  ...             0.0             0.0               0\n",
            "2     1     5   181.00  ...             0.0             0.0               0\n",
            "\n",
            "[3 rows x 8 columns]\n",
            "0    0\n",
            "1    0\n",
            "2    1\n",
            "Name: isFraud, dtype: int64\n"
          ],
          "name": "stdout"
        }
      ]
    },
    {
      "cell_type": "code",
      "metadata": {
        "id": "gWnmWiGWmWdK",
        "colab_type": "code",
        "colab": {}
      },
      "source": [
        "# Split Data into Trainding and Testing Sets\n",
        "X_train, X_test, y_train, y_test = train_test_split(X, y, test_size=0.2)"
      ],
      "execution_count": 10,
      "outputs": []
    },
    {
      "cell_type": "markdown",
      "metadata": {
        "id": "fg-_EJw6mo04",
        "colab_type": "text"
      },
      "source": [
        "# Train Binary Classification Model\n",
        "* Unsure what model to use so will test 3 different types\n",
        "  * KNN, Logistic Regression, and Random Forest"
      ]
    },
    {
      "cell_type": "code",
      "metadata": {
        "id": "UP5BNcE9mrmA",
        "colab_type": "code",
        "colab": {}
      },
      "source": [
        "# Store Model Types\n",
        "model_types = {\"KNN\": KNeighborsClassifier(),\n",
        "               \"Logistic Regression\": LogisticRegression(), \n",
        "               \"Random Forest\": RandomForestClassifier()}\n",
        "\n",
        "# Create function to fit and score models\n",
        "def fit_and_score(models, X_train, X_test, y_train, y_test):\n",
        "    \"\"\"\n",
        "    Fits and evaluates given machine learning models.\n",
        "    models = a dict of different Scikit-Learn machine learning models\n",
        "    X_train = training data\n",
        "    X_test = testing data\n",
        "    y_train = targets for training\n",
        "    y_test = targets for test data\n",
        "    \"\"\"\n",
        "    # Random seed for reproducible results\n",
        "    np.random.seed(1)\n",
        "    model_scores = {} # Stores Scores\n",
        "\n",
        "    for name, model in models.items():\n",
        "        model.fit(X_train, y_train) # Fit Model\n",
        "        model_scores[name] = model.score(X_test, y_test) # Evaluation\n",
        "    return model_scores"
      ],
      "execution_count": 11,
      "outputs": []
    },
    {
      "cell_type": "code",
      "metadata": {
        "id": "d0vLuA5vzI2a",
        "colab_type": "code",
        "colab": {}
      },
      "source": [
        "# Model Runtime ~\n",
        "# model_scores = fit_and_score(model_types, X_train, X_test, y_train, y_test) \n",
        "# model_scores"
      ],
      "execution_count": 12,
      "outputs": []
    },
    {
      "cell_type": "code",
      "metadata": {
        "id": "FJffVlEGBpT9",
        "colab_type": "code",
        "colab": {}
      },
      "source": [
        "# os.chdir('drive/My Drive/zz_fraud_detection')\n",
        "# with open('model_scores.json', 'w') as json_file:\n",
        "#   json.dump(model_scores, json_file)"
      ],
      "execution_count": 13,
      "outputs": []
    },
    {
      "cell_type": "markdown",
      "metadata": {
        "id": "JR_c9YgGBX67",
        "colab_type": "text"
      },
      "source": [
        "# Test Best Model"
      ]
    },
    {
      "cell_type": "code",
      "metadata": {
        "id": "k0-iPhTXBfQ1",
        "colab_type": "code",
        "colab": {}
      },
      "source": [
        "# TODO: Complete model evaluation\n",
        "# TODO: Adjust best model"
      ],
      "execution_count": 14,
      "outputs": []
    }
  ]
}