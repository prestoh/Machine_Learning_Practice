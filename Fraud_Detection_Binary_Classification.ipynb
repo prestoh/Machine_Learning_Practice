{
  "nbformat": 4,
  "nbformat_minor": 0,
  "metadata": {
    "colab": {
      "name": "Fraud_Detection_Binary_Classification.ipynb",
      "provenance": [],
      "collapsed_sections": [],
      "toc_visible": true
    },
    "kernelspec": {
      "name": "python3",
      "display_name": "Python 3"
    }
  },
  "cells": [
    {
      "cell_type": "markdown",
      "metadata": {
        "id": "u4x8Z3nGhHEg",
        "colab_type": "text"
      },
      "source": [
        "# Fraud Detection Using Binary Classification"
      ]
    },
    {
      "cell_type": "code",
      "metadata": {
        "id": "YD8byiTFhDSb",
        "colab_type": "code",
        "colab": {}
      },
      "source": [
        "# Import modules\n",
        "import pickle\n",
        "\n",
        "import pandas as pd\n",
        "import numpy as np\n",
        "import matplotlib.pyplot as plt\n",
        "\n",
        "import os\n",
        "import json\n",
        "\n",
        "import tensorflow as tf\n",
        "from tensorflow import keras\n",
        "\n",
        "from sklearn.model_selection import cross_val_score\n",
        "from sklearn.metrics import plot_roc_curve\n",
        "from sklearn.metrics import confusion_matrix\n",
        "from sklearn.metrics import classification_report\n",
        "from sklearn.model_selection import train_test_split\n",
        "\n",
        "from sklearn.linear_model import LogisticRegression\n",
        "from sklearn.neighbors import KNeighborsClassifier\n",
        "from sklearn.ensemble import RandomForestClassifier\n",
        "from sklearn import svm"
      ],
      "execution_count": 1,
      "outputs": []
    },
    {
      "cell_type": "code",
      "metadata": {
        "id": "bzg_bjUnhOo2",
        "colab_type": "code",
        "colab": {}
      },
      "source": [
        "# Import Data\n",
        "df = pd.read_csv('drive/My Drive/zz_fraud_detection/fraud_data.csv')"
      ],
      "execution_count": 2,
      "outputs": []
    },
    {
      "cell_type": "code",
      "metadata": {
        "id": "2eQfMSKKjwiY",
        "colab_type": "code",
        "colab": {
          "base_uri": "https://localhost:8080/",
          "height": 137
        },
        "outputId": "5173c5f0-2067-4505-a069-67bfe572ba0e"
      },
      "source": [
        "df.head(3)"
      ],
      "execution_count": 3,
      "outputs": [
        {
          "output_type": "execute_result",
          "data": {
            "text/html": [
              "<div>\n",
              "<style scoped>\n",
              "    .dataframe tbody tr th:only-of-type {\n",
              "        vertical-align: middle;\n",
              "    }\n",
              "\n",
              "    .dataframe tbody tr th {\n",
              "        vertical-align: top;\n",
              "    }\n",
              "\n",
              "    .dataframe thead th {\n",
              "        text-align: right;\n",
              "    }\n",
              "</style>\n",
              "<table border=\"1\" class=\"dataframe\">\n",
              "  <thead>\n",
              "    <tr style=\"text-align: right;\">\n",
              "      <th></th>\n",
              "      <th>step</th>\n",
              "      <th>type</th>\n",
              "      <th>amount</th>\n",
              "      <th>nameOrig</th>\n",
              "      <th>oldbalanceOrg</th>\n",
              "      <th>newbalanceOrig</th>\n",
              "      <th>nameDest</th>\n",
              "      <th>oldbalanceDest</th>\n",
              "      <th>newbalanceDest</th>\n",
              "      <th>isFraud</th>\n",
              "      <th>isFlaggedFraud</th>\n",
              "    </tr>\n",
              "  </thead>\n",
              "  <tbody>\n",
              "    <tr>\n",
              "      <th>0</th>\n",
              "      <td>1</td>\n",
              "      <td>PAYMENT</td>\n",
              "      <td>9839.64</td>\n",
              "      <td>C1231006815</td>\n",
              "      <td>170136.0</td>\n",
              "      <td>160296.36</td>\n",
              "      <td>M1979787155</td>\n",
              "      <td>0.0</td>\n",
              "      <td>0.0</td>\n",
              "      <td>0</td>\n",
              "      <td>0</td>\n",
              "    </tr>\n",
              "    <tr>\n",
              "      <th>1</th>\n",
              "      <td>1</td>\n",
              "      <td>PAYMENT</td>\n",
              "      <td>1864.28</td>\n",
              "      <td>C1666544295</td>\n",
              "      <td>21249.0</td>\n",
              "      <td>19384.72</td>\n",
              "      <td>M2044282225</td>\n",
              "      <td>0.0</td>\n",
              "      <td>0.0</td>\n",
              "      <td>0</td>\n",
              "      <td>0</td>\n",
              "    </tr>\n",
              "    <tr>\n",
              "      <th>2</th>\n",
              "      <td>1</td>\n",
              "      <td>TRANSFER</td>\n",
              "      <td>181.00</td>\n",
              "      <td>C1305486145</td>\n",
              "      <td>181.0</td>\n",
              "      <td>0.00</td>\n",
              "      <td>C553264065</td>\n",
              "      <td>0.0</td>\n",
              "      <td>0.0</td>\n",
              "      <td>1</td>\n",
              "      <td>0</td>\n",
              "    </tr>\n",
              "  </tbody>\n",
              "</table>\n",
              "</div>"
            ],
            "text/plain": [
              "   step      type   amount  ... newbalanceDest  isFraud  isFlaggedFraud\n",
              "0     1   PAYMENT  9839.64  ...            0.0        0               0\n",
              "1     1   PAYMENT  1864.28  ...            0.0        0               0\n",
              "2     1  TRANSFER   181.00  ...            0.0        1               0\n",
              "\n",
              "[3 rows x 11 columns]"
            ]
          },
          "metadata": {
            "tags": []
          },
          "execution_count": 3
        }
      ]
    },
    {
      "cell_type": "code",
      "metadata": {
        "id": "CZNIStwXi91j",
        "colab_type": "code",
        "colab": {
          "base_uri": "https://localhost:8080/",
          "height": 217
        },
        "outputId": "3695e9da-d07f-46b5-83ad-f7ca72387acd"
      },
      "source": [
        "df.isna().sum() # No missing data points"
      ],
      "execution_count": 4,
      "outputs": [
        {
          "output_type": "execute_result",
          "data": {
            "text/plain": [
              "step              0\n",
              "type              0\n",
              "amount            0\n",
              "nameOrig          0\n",
              "oldbalanceOrg     0\n",
              "newbalanceOrig    0\n",
              "nameDest          0\n",
              "oldbalanceDest    0\n",
              "newbalanceDest    0\n",
              "isFraud           0\n",
              "isFlaggedFraud    0\n",
              "dtype: int64"
            ]
          },
          "metadata": {
            "tags": []
          },
          "execution_count": 4
        }
      ]
    },
    {
      "cell_type": "markdown",
      "metadata": {
        "id": "3SFGjeYxjgzs",
        "colab_type": "text"
      },
      "source": [
        "# Setup data for Machine Learning Model"
      ]
    },
    {
      "cell_type": "code",
      "metadata": {
        "id": "3IsSVbO9kFHM",
        "colab_type": "code",
        "colab": {
          "base_uri": "https://localhost:8080/",
          "height": 197
        },
        "outputId": "d588fde5-884c-4151-df43-8956efdab841"
      },
      "source": [
        "df_temp = df.copy()\n",
        "df_temp.drop(['nameOrig','nameDest'],axis=1, inplace=True)\n",
        "df_temp.head(5)"
      ],
      "execution_count": 5,
      "outputs": [
        {
          "output_type": "execute_result",
          "data": {
            "text/html": [
              "<div>\n",
              "<style scoped>\n",
              "    .dataframe tbody tr th:only-of-type {\n",
              "        vertical-align: middle;\n",
              "    }\n",
              "\n",
              "    .dataframe tbody tr th {\n",
              "        vertical-align: top;\n",
              "    }\n",
              "\n",
              "    .dataframe thead th {\n",
              "        text-align: right;\n",
              "    }\n",
              "</style>\n",
              "<table border=\"1\" class=\"dataframe\">\n",
              "  <thead>\n",
              "    <tr style=\"text-align: right;\">\n",
              "      <th></th>\n",
              "      <th>step</th>\n",
              "      <th>type</th>\n",
              "      <th>amount</th>\n",
              "      <th>oldbalanceOrg</th>\n",
              "      <th>newbalanceOrig</th>\n",
              "      <th>oldbalanceDest</th>\n",
              "      <th>newbalanceDest</th>\n",
              "      <th>isFraud</th>\n",
              "      <th>isFlaggedFraud</th>\n",
              "    </tr>\n",
              "  </thead>\n",
              "  <tbody>\n",
              "    <tr>\n",
              "      <th>0</th>\n",
              "      <td>1</td>\n",
              "      <td>PAYMENT</td>\n",
              "      <td>9839.64</td>\n",
              "      <td>170136.0</td>\n",
              "      <td>160296.36</td>\n",
              "      <td>0.0</td>\n",
              "      <td>0.0</td>\n",
              "      <td>0</td>\n",
              "      <td>0</td>\n",
              "    </tr>\n",
              "    <tr>\n",
              "      <th>1</th>\n",
              "      <td>1</td>\n",
              "      <td>PAYMENT</td>\n",
              "      <td>1864.28</td>\n",
              "      <td>21249.0</td>\n",
              "      <td>19384.72</td>\n",
              "      <td>0.0</td>\n",
              "      <td>0.0</td>\n",
              "      <td>0</td>\n",
              "      <td>0</td>\n",
              "    </tr>\n",
              "    <tr>\n",
              "      <th>2</th>\n",
              "      <td>1</td>\n",
              "      <td>TRANSFER</td>\n",
              "      <td>181.00</td>\n",
              "      <td>181.0</td>\n",
              "      <td>0.00</td>\n",
              "      <td>0.0</td>\n",
              "      <td>0.0</td>\n",
              "      <td>1</td>\n",
              "      <td>0</td>\n",
              "    </tr>\n",
              "    <tr>\n",
              "      <th>3</th>\n",
              "      <td>1</td>\n",
              "      <td>CASH_OUT</td>\n",
              "      <td>181.00</td>\n",
              "      <td>181.0</td>\n",
              "      <td>0.00</td>\n",
              "      <td>21182.0</td>\n",
              "      <td>0.0</td>\n",
              "      <td>1</td>\n",
              "      <td>0</td>\n",
              "    </tr>\n",
              "    <tr>\n",
              "      <th>4</th>\n",
              "      <td>1</td>\n",
              "      <td>PAYMENT</td>\n",
              "      <td>11668.14</td>\n",
              "      <td>41554.0</td>\n",
              "      <td>29885.86</td>\n",
              "      <td>0.0</td>\n",
              "      <td>0.0</td>\n",
              "      <td>0</td>\n",
              "      <td>0</td>\n",
              "    </tr>\n",
              "  </tbody>\n",
              "</table>\n",
              "</div>"
            ],
            "text/plain": [
              "   step      type    amount  ...  newbalanceDest  isFraud  isFlaggedFraud\n",
              "0     1   PAYMENT   9839.64  ...             0.0        0               0\n",
              "1     1   PAYMENT   1864.28  ...             0.0        0               0\n",
              "2     1  TRANSFER    181.00  ...             0.0        1               0\n",
              "3     1  CASH_OUT    181.00  ...             0.0        1               0\n",
              "4     1   PAYMENT  11668.14  ...             0.0        0               0\n",
              "\n",
              "[5 rows x 9 columns]"
            ]
          },
          "metadata": {
            "tags": []
          },
          "execution_count": 5
        }
      ]
    },
    {
      "cell_type": "code",
      "metadata": {
        "id": "CT652yDrjmrf",
        "colab_type": "code",
        "colab": {}
      },
      "source": [
        "# Turn categorical variables into numbers\n",
        "for label, content in df_temp.items():\n",
        "    if not pd.api.types.is_numeric_dtype(content):\n",
        "        # # Add binary column to inidicate whether sample had missing value\n",
        "        # df_temp[label+\"_is_missing\"] = pd.isnull(content)\n",
        "        # missing categories set as -1\n",
        "        df_temp[label] = pd.Categorical(content).codes + 1  "
      ],
      "execution_count": 6,
      "outputs": []
    },
    {
      "cell_type": "code",
      "metadata": {
        "id": "yGNBQ3-NlEpS",
        "colab_type": "code",
        "colab": {
          "base_uri": "https://localhost:8080/",
          "height": 167
        },
        "outputId": "18f6a89a-f55e-4524-9088-b9f92ed45f01"
      },
      "source": [
        "print(df_temp.head(5)) # Check new data\n",
        "print(df_temp['isFlaggedFraud'].unique()) # Make sure there are some flagged"
      ],
      "execution_count": 7,
      "outputs": [
        {
          "output_type": "stream",
          "text": [
            "   step  type    amount  ...  newbalanceDest  isFraud  isFlaggedFraud\n",
            "0     1     4   9839.64  ...             0.0        0               0\n",
            "1     1     4   1864.28  ...             0.0        0               0\n",
            "2     1     5    181.00  ...             0.0        1               0\n",
            "3     1     2    181.00  ...             0.0        1               0\n",
            "4     1     4  11668.14  ...             0.0        0               0\n",
            "\n",
            "[5 rows x 9 columns]\n",
            "[0 1]\n"
          ],
          "name": "stdout"
        }
      ]
    },
    {
      "cell_type": "code",
      "metadata": {
        "id": "9JS9P8TolG94",
        "colab_type": "code",
        "colab": {}
      },
      "source": [
        "X = df_temp.drop('isFraud',axis=1)\n",
        "y = df_temp['isFraud']"
      ],
      "execution_count": 8,
      "outputs": []
    },
    {
      "cell_type": "code",
      "metadata": {
        "id": "wKJM70Kmlfem",
        "colab_type": "code",
        "colab": {
          "base_uri": "https://localhost:8080/",
          "height": 183
        },
        "outputId": "5fa0df5e-e8d7-44b8-a896-544df2153e0a"
      },
      "source": [
        "print(X.head(3))\n",
        "print(y.head(3))"
      ],
      "execution_count": 9,
      "outputs": [
        {
          "output_type": "stream",
          "text": [
            "   step  type   amount  ...  oldbalanceDest  newbalanceDest  isFlaggedFraud\n",
            "0     1     4  9839.64  ...             0.0             0.0               0\n",
            "1     1     4  1864.28  ...             0.0             0.0               0\n",
            "2     1     5   181.00  ...             0.0             0.0               0\n",
            "\n",
            "[3 rows x 8 columns]\n",
            "0    0\n",
            "1    0\n",
            "2    1\n",
            "Name: isFraud, dtype: int64\n"
          ],
          "name": "stdout"
        }
      ]
    },
    {
      "cell_type": "code",
      "metadata": {
        "id": "gWnmWiGWmWdK",
        "colab_type": "code",
        "colab": {}
      },
      "source": [
        "# Split Data into Trainding and Testing Sets (using first 1000 due to large amount of data)\n",
        "X_train, X_test, y_train, y_test = train_test_split(X[:100000], y[:100000], test_size=0.2)"
      ],
      "execution_count": 10,
      "outputs": []
    },
    {
      "cell_type": "markdown",
      "metadata": {
        "id": "fg-_EJw6mo04",
        "colab_type": "text"
      },
      "source": [
        "# Train Binary Classification Model\n",
        "* Unsure what model to use so will test 3 different types\n",
        "  * KNN, Logistic Regression, and Random Forest"
      ]
    },
    {
      "cell_type": "code",
      "metadata": {
        "id": "UP5BNcE9mrmA",
        "colab_type": "code",
        "colab": {}
      },
      "source": [
        "# Store Model Types\n",
        "model_types = {\"KNN\": KNeighborsClassifier(),\n",
        "               \"Logistic Regression\": LogisticRegression(), \n",
        "               \"Random Forest\": RandomForestClassifier()}\n",
        "\n",
        "# Create function to fit and score models\n",
        "def fit_and_score(models, X_train, X_test, y_train, y_test):\n",
        "    \"\"\"\n",
        "    Fits and evaluates given machine learning models.\n",
        "    models = a dict of different Scikit-Learn machine learning models\n",
        "    X_train = training data\n",
        "    X_test = testing data\n",
        "    y_train = targets for training\n",
        "    y_test = targets for test data\n",
        "    \"\"\"\n",
        "    # Random seed for reproducible results\n",
        "    np.random.seed(1)\n",
        "    model_scores = {} # Stores Scores\n",
        "\n",
        "    for name, model in models.items():\n",
        "        model.fit(X_train, y_train) # Fit Model\n",
        "        model_scores[name] = model.score(X_test, y_test) # Evaluation\n",
        "    return model_scores"
      ],
      "execution_count": 11,
      "outputs": []
    },
    {
      "cell_type": "code",
      "metadata": {
        "id": "d0vLuA5vzI2a",
        "colab_type": "code",
        "colab": {
          "base_uri": "https://localhost:8080/",
          "height": 33
        },
        "outputId": "6a7c180d-9e18-4f88-f55c-93407070d434"
      },
      "source": [
        "# Model Runtime ~\n",
        "model_scores = fit_and_score(model_types, X_train, X_test, y_train, y_test) \n",
        "model_scores"
      ],
      "execution_count": 12,
      "outputs": [
        {
          "output_type": "execute_result",
          "data": {
            "text/plain": [
              "{'KNN': 0.99875, 'Logistic Regression': 0.99905, 'Random Forest': 0.99925}"
            ]
          },
          "metadata": {
            "tags": []
          },
          "execution_count": 12
        }
      ]
    },
    {
      "cell_type": "code",
      "metadata": {
        "id": "4Vfz9TREheRm",
        "colab_type": "code",
        "colab": {
          "base_uri": "https://localhost:8080/",
          "height": 83
        },
        "outputId": "f0c14c66-6c21-4de3-c12f-a05477b9316f"
      },
      "source": [
        "model_svc = svm.SVC()\n",
        "model_svc.fit(X_train, y_train)"
      ],
      "execution_count": 13,
      "outputs": [
        {
          "output_type": "execute_result",
          "data": {
            "text/plain": [
              "SVC(C=1.0, break_ties=False, cache_size=200, class_weight=None, coef0=0.0,\n",
              "    decision_function_shape='ovr', degree=3, gamma='scale', kernel='rbf',\n",
              "    max_iter=-1, probability=False, random_state=None, shrinking=True,\n",
              "    tol=0.001, verbose=False)"
            ]
          },
          "metadata": {
            "tags": []
          },
          "execution_count": 13
        }
      ]
    },
    {
      "cell_type": "code",
      "metadata": {
        "id": "zPucp477aPAb",
        "colab_type": "code",
        "colab": {
          "base_uri": "https://localhost:8080/",
          "height": 33
        },
        "outputId": "3e3bd059-b10b-4ed9-f5ea-45143700213c"
      },
      "source": [
        "model_svc.score(X_test, y_test)"
      ],
      "execution_count": 14,
      "outputs": [
        {
          "output_type": "execute_result",
          "data": {
            "text/plain": [
              "0.99875"
            ]
          },
          "metadata": {
            "tags": []
          },
          "execution_count": 14
        }
      ]
    },
    {
      "cell_type": "markdown",
      "metadata": {
        "id": "V5JI1Nt6alvl",
        "colab_type": "text"
      },
      "source": [
        "All models preformed well. Random Forest Classifier is selected for further testing"
      ]
    },
    {
      "cell_type": "markdown",
      "metadata": {
        "id": "JR_c9YgGBX67",
        "colab_type": "text"
      },
      "source": [
        "# Test Best Model"
      ]
    },
    {
      "cell_type": "code",
      "metadata": {
        "id": "lHOU31aEa6fA",
        "colab_type": "code",
        "colab": {}
      },
      "source": [
        "X_train2, X_test2, y_train2, y_test2 = train_test_split(X, y, test_size=0.2) # Setup model for all data\n",
        "best_model = RandomForestClassifier()\n",
        "best_model.fit(X_train2, y_train2)"
      ],
      "execution_count": null,
      "outputs": []
    },
    {
      "cell_type": "code",
      "metadata": {
        "id": "bHvgAq18bKG2",
        "colab_type": "code",
        "colab": {
          "base_uri": "https://localhost:8080/",
          "height": 33
        },
        "outputId": "94415980-65f7-41d3-ba78-b804b134baf2"
      },
      "source": [
        "best_model.score(X_test2, y_test2) # Checking best model score on all data"
      ],
      "execution_count": 16,
      "outputs": [
        {
          "output_type": "execute_result",
          "data": {
            "text/plain": [
              "0.9997123826348265"
            ]
          },
          "metadata": {
            "tags": []
          },
          "execution_count": 16
        }
      ]
    },
    {
      "cell_type": "code",
      "metadata": {
        "id": "4nOXIIgkbPU8",
        "colab_type": "code",
        "colab": {}
      },
      "source": [
        "os.chdir('/content/drive/My Drive/zz_fraud_detection')\n",
        "# pickle.dump(best_model, open('model_1.pkl','wb')) # Save model for future use\n",
        "load_model = pickle.load(open('model_1.pkl','rb'))"
      ],
      "execution_count": 17,
      "outputs": []
    },
    {
      "cell_type": "code",
      "metadata": {
        "id": "sE6Zoickcy6Q",
        "colab_type": "code",
        "colab": {
          "base_uri": "https://localhost:8080/",
          "height": 33
        },
        "outputId": "2c91d6d7-8570-4023-a3aa-c4c6332f06ce"
      },
      "source": [
        "y_pred = load_model.predict(X_test2)\n",
        "y_prob = load_model.predict_proba(X_test2)\n",
        "cross_val_score(load_model, X, y)"
      ],
      "execution_count": 18,
      "outputs": [
        {
          "output_type": "execute_result",
          "data": {
            "text/plain": [
              "array([0.99938312, 0.99963458, 0.9914312 , 0.99931003, 0.02203338])"
            ]
          },
          "metadata": {
            "tags": []
          },
          "execution_count": 18
        }
      ]
    },
    {
      "cell_type": "code",
      "metadata": {
        "id": "wOlEl4FohtDN",
        "colab_type": "code",
        "colab": {
          "base_uri": "https://localhost:8080/",
          "height": 296
        },
        "outputId": "11d1c6d6-cc9f-4083-c7ce-842e81fbf469"
      },
      "source": [
        "plot_roc_curve(load_model, X_test2, y_test2)"
      ],
      "execution_count": 19,
      "outputs": [
        {
          "output_type": "execute_result",
          "data": {
            "text/plain": [
              "<sklearn.metrics._plot.roc_curve.RocCurveDisplay at 0x7fe586aa8278>"
            ]
          },
          "metadata": {
            "tags": []
          },
          "execution_count": 19
        },
        {
          "output_type": "display_data",
          "data": {
            "image/png": "[encoded data removed]",
            "text/plain": [
              "<Figure size 432x288 with 1 Axes>"
            ]
          },
          "metadata": {
            "tags": [],
            "needs_background": "light"
          }
        }
      ]
    },
    {
      "cell_type": "code",
      "metadata": {
        "id": "zQzkb_5QiGme",
        "colab_type": "code",
        "colab": {
          "base_uri": "https://localhost:8080/",
          "height": 167
        },
        "outputId": "c456ec8b-c2fe-40ba-e290-c0f0a87a0b86"
      },
      "source": [
        "print(classification_report(y_test2, y_pred))"
      ],
      "execution_count": 21,
      "outputs": [
        {
          "output_type": "stream",
          "text": [
            "              precision    recall  f1-score   support\n",
            "\n",
            "           0       1.00      1.00      1.00   1270897\n",
            "           1       0.98      0.80      0.88      1627\n",
            "\n",
            "    accuracy                           1.00   1272524\n",
            "   macro avg       0.99      0.90      0.94   1272524\n",
            "weighted avg       1.00      1.00      1.00   1272524\n",
            "\n"
          ],
          "name": "stdout"
        }
      ]
    }
  ]
}