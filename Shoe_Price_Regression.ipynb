{
  "nbformat": 4,
  "nbformat_minor": 0,
  "metadata": {
    "colab": {
      "name": "Shoe_Price_Regression.ipynb",
      "provenance": [],
      "toc_visible": true
    },
    "kernelspec": {
      "name": "python3",
      "display_name": "Python 3"
    }
  },
  "cells": [
    {
      "cell_type": "markdown",
      "metadata": {
        "id": "nOBPmLgGIyY-",
        "colab_type": "text"
      },
      "source": [
        "# Shoe Price Determination: Machine Learning using sklearn and Tensorflow Regression Models\n",
        "\n"
      ]
    },
    {
      "cell_type": "markdown",
      "metadata": {
        "id": "IOUE1RWFk0IK",
        "colab_type": "text"
      },
      "source": [
        "Notes: \n",
        "1. RandomForestRegressor model may not be the best fit for the data.\n",
        "2. Further analysis suggests reversing the X and y to make a classification model"
      ]
    },
    {
      "cell_type": "code",
      "metadata": {
        "id": "uXOfIDTVIt-O",
        "colab_type": "code",
        "colab": {}
      },
      "source": [
        "#import libraries\n",
        "import tensorflow as tf\n",
        "from tensorflow import keras\n",
        "\n",
        "import numpy as np\n",
        "import pandas as pd\n",
        "import matplotlib.pyplot as plt\n",
        "\n",
        "from sklearn.ensemble import RandomForestRegressor\n",
        "from sklearn.linear_model import LinearRegression\n",
        "from sklearn.model_selection import train_test_split\n",
        "from sklearn.metrics import mean_squared_log_error, mean_absolute_error, accuracy_score\n",
        "from sklearn.model_selection import RandomizedSearchCV"
      ],
      "execution_count": 1,
      "outputs": []
    },
    {
      "cell_type": "markdown",
      "metadata": {
        "id": "PJl0cHIzJWwH",
        "colab_type": "text"
      },
      "source": [
        "Import kaggle notebook as Data Frame\n",
        "* Limited data for model, seems best use is Brand, and target as price.\n",
        "* Could reverse the order and guess the brand from the price"
      ]
    },
    {
      "cell_type": "code",
      "metadata": {
        "id": "Rk3lifdaJbZH",
        "colab_type": "code",
        "colab": {}
      },
      "source": [
        "df = pd.read_csv(\"/content/drive/My Drive/z_Shoe_prices/Datafiniti_Womens_Shoes.csv\")"
      ],
      "execution_count": 2,
      "outputs": []
    },
    {
      "cell_type": "code",
      "metadata": {
        "id": "zxOKcgrVLIja",
        "colab_type": "code",
        "colab": {
          "base_uri": "https://localhost:8080/",
          "height": 294
        },
        "outputId": "d4f44b47-8ccc-4895-d446-3809fdc2080e"
      },
      "source": [
        "df_temp = df.copy()\n",
        "df.head(2)"
      ],
      "execution_count": 3,
      "outputs": [
        {
          "output_type": "execute_result",
          "data": {
            "text/html": [
              "<div>\n",
              "<style scoped>\n",
              "    .dataframe tbody tr th:only-of-type {\n",
              "        vertical-align: middle;\n",
              "    }\n",
              "\n",
              "    .dataframe tbody tr th {\n",
              "        vertical-align: top;\n",
              "    }\n",
              "\n",
              "    .dataframe thead th {\n",
              "        text-align: right;\n",
              "    }\n",
              "</style>\n",
              "<table border=\"1\" class=\"dataframe\">\n",
              "  <thead>\n",
              "    <tr style=\"text-align: right;\">\n",
              "      <th></th>\n",
              "      <th>id</th>\n",
              "      <th>dateAdded</th>\n",
              "      <th>dateUpdated</th>\n",
              "      <th>asins</th>\n",
              "      <th>brand</th>\n",
              "      <th>categories</th>\n",
              "      <th>primaryCategories</th>\n",
              "      <th>colors</th>\n",
              "      <th>dimension</th>\n",
              "      <th>ean</th>\n",
              "      <th>imageURLs</th>\n",
              "      <th>keys</th>\n",
              "      <th>manufacturer</th>\n",
              "      <th>manufacturerNumber</th>\n",
              "      <th>name</th>\n",
              "      <th>prices.amountMax</th>\n",
              "      <th>prices.amountMin</th>\n",
              "      <th>prices.availability</th>\n",
              "      <th>prices.color</th>\n",
              "      <th>prices.condition</th>\n",
              "      <th>prices.currency</th>\n",
              "      <th>prices.dateAdded</th>\n",
              "      <th>prices.dateSeen</th>\n",
              "      <th>prices.isSale</th>\n",
              "      <th>prices.merchant</th>\n",
              "      <th>prices.offer</th>\n",
              "      <th>prices.returnPolicy</th>\n",
              "      <th>prices.shipping</th>\n",
              "      <th>prices.size</th>\n",
              "      <th>prices.sourceURLs</th>\n",
              "      <th>sizes</th>\n",
              "      <th>sourceURLs</th>\n",
              "      <th>upc</th>\n",
              "      <th>weight</th>\n",
              "    </tr>\n",
              "  </thead>\n",
              "  <tbody>\n",
              "    <tr>\n",
              "      <th>0</th>\n",
              "      <td>AVpfEf_hLJeJML431ueH</td>\n",
              "      <td>2015-05-04T12:13:08Z</td>\n",
              "      <td>2018-01-29T04:38:43Z</td>\n",
              "      <td>NaN</td>\n",
              "      <td>Naturalizer</td>\n",
              "      <td>Clothing,Shoes,Women's Shoes,All Women's Shoes...</td>\n",
              "      <td>Shoes</td>\n",
              "      <td>Silver,Cream Watercolor Floral</td>\n",
              "      <td>NaN</td>\n",
              "      <td>NaN</td>\n",
              "      <td>https://i5.walmartimages.com/asr/861ca6cf-fa55...</td>\n",
              "      <td>naturalizer/47147sc022,017136472311,womensnatu...</td>\n",
              "      <td>NaN</td>\n",
              "      <td>47147SC022</td>\n",
              "      <td>Naturalizer Danya Women N/S Open Toe Synthetic...</td>\n",
              "      <td>55.99</td>\n",
              "      <td>55.99</td>\n",
              "      <td>NaN</td>\n",
              "      <td>UWomens  M Regular</td>\n",
              "      <td>NaN</td>\n",
              "      <td>USD</td>\n",
              "      <td>2017-03-28T11:40:25Z</td>\n",
              "      <td>2017-03-25T09:19:24.819Z,2017-03-25T09:19:19.600Z</td>\n",
              "      <td>False</td>\n",
              "      <td>Overstock.com</td>\n",
              "      <td>NaN</td>\n",
              "      <td>NaN</td>\n",
              "      <td>NaN</td>\n",
              "      <td>S</td>\n",
              "      <td>https://www.overstock.com/Clothing-Shoes/Women...</td>\n",
              "      <td>6W,9W,7.5W,12W,8.5M,9N,9M,9.5M,10.5M,10W,8.5W,...</td>\n",
              "      <td>https://www.walmart.com/ip/Naturalizer-Danya-W...</td>\n",
              "      <td>017136472311</td>\n",
              "      <td>NaN</td>\n",
              "    </tr>\n",
              "    <tr>\n",
              "      <th>1</th>\n",
              "      <td>AVpi74XfLJeJML43qZAc</td>\n",
              "      <td>2017-01-27T01:23:39Z</td>\n",
              "      <td>2018-01-03T05:21:54Z</td>\n",
              "      <td>NaN</td>\n",
              "      <td>MUK LUKS</td>\n",
              "      <td>Clothing,Shoes,Women's Shoes,Women's Casual Sh...</td>\n",
              "      <td>Shoes</td>\n",
              "      <td>Grey</td>\n",
              "      <td>NaN</td>\n",
              "      <td>3.397705e+10</td>\n",
              "      <td>https://i5.walmartimages.com/asr/421de5d5-3a74...</td>\n",
              "      <td>mukluks/00173650206,033977045743,muklukswomens...</td>\n",
              "      <td>Muk Luks</td>\n",
              "      <td>0017365020-6</td>\n",
              "      <td>MUK LUKS Womens Jane Suede Moccasin</td>\n",
              "      <td>47.00</td>\n",
              "      <td>35.25</td>\n",
              "      <td>In Stock</td>\n",
              "      <td>Grey</td>\n",
              "      <td>New</td>\n",
              "      <td>USD</td>\n",
              "      <td>2018-01-03T05:21:54Z</td>\n",
              "      <td>2017-12-08T14:24:00.000Z,2017-11-01T02:52:00.000Z</td>\n",
              "      <td>True</td>\n",
              "      <td>Walmart.com</td>\n",
              "      <td>NaN</td>\n",
              "      <td>NaN</td>\n",
              "      <td>Standard</td>\n",
              "      <td>6</td>\n",
              "      <td>https://www.walmart.com/ip/MUK-LUKS-Womens-Jan...</td>\n",
              "      <td>10,7,6,9,8</td>\n",
              "      <td>https://www.walmart.com/ip/MUK-LUKS-Womens-Jan...</td>\n",
              "      <td>033977045743</td>\n",
              "      <td>NaN</td>\n",
              "    </tr>\n",
              "  </tbody>\n",
              "</table>\n",
              "</div>"
            ],
            "text/plain": [
              "                     id             dateAdded  ...           upc weight\n",
              "0  AVpfEf_hLJeJML431ueH  2015-05-04T12:13:08Z  ...  017136472311    NaN\n",
              "1  AVpi74XfLJeJML43qZAc  2017-01-27T01:23:39Z  ...  033977045743    NaN\n",
              "\n",
              "[2 rows x 34 columns]"
            ]
          },
          "metadata": {
            "tags": []
          },
          "execution_count": 3
        }
      ]
    },
    {
      "cell_type": "code",
      "metadata": {
        "id": "YoYfGjowLWK7",
        "colab_type": "code",
        "colab": {
          "base_uri": "https://localhost:8080/",
          "height": 117
        },
        "outputId": "a957179d-20cd-4af4-b5a2-0680c7b128b7"
      },
      "source": [
        "# Created the test and target values for the regression model\n",
        "X_temp = df['brand']\n",
        "y = (df['prices.amountMax'] + df['prices.amountMin']) / 2\n",
        "\n",
        "X_temp.head(5)"
      ],
      "execution_count": 4,
      "outputs": [
        {
          "output_type": "execute_result",
          "data": {
            "text/plain": [
              "0    Naturalizer\n",
              "1       MUK LUKS\n",
              "2       MUK LUKS\n",
              "3       MUK LUKS\n",
              "4       MUK LUKS\n",
              "Name: brand, dtype: object"
            ]
          },
          "metadata": {
            "tags": []
          },
          "execution_count": 4
        }
      ]
    },
    {
      "cell_type": "code",
      "metadata": {
        "id": "hWbJuZD4ROr5",
        "colab_type": "code",
        "colab": {
          "base_uri": "https://localhost:8080/",
          "height": 33
        },
        "outputId": "6ceca7a8-9f51-4cbd-9b10-8c3657a7938c"
      },
      "source": [
        "pd.api.types.is_string_dtype(df_temp[\"brand\"])"
      ],
      "execution_count": 5,
      "outputs": [
        {
          "output_type": "execute_result",
          "data": {
            "text/plain": [
              "True"
            ]
          },
          "metadata": {
            "tags": []
          },
          "execution_count": 5
        }
      ]
    },
    {
      "cell_type": "code",
      "metadata": {
        "id": "Bkt6hqPgSrcH",
        "colab_type": "code",
        "colab": {
          "base_uri": "https://localhost:8080/",
          "height": 600
        },
        "outputId": "838eaf98-072e-4771-8c30-1c2ebb8e33ea"
      },
      "source": [
        "# Check missing values\n",
        "df_temp.isna().sum()"
      ],
      "execution_count": 6,
      "outputs": [
        {
          "output_type": "execute_result",
          "data": {
            "text/plain": [
              "id                         0\n",
              "dateAdded                  0\n",
              "dateUpdated                0\n",
              "asins                   9997\n",
              "brand                      0\n",
              "categories                 0\n",
              "primaryCategories          0\n",
              "colors                  7369\n",
              "dimension               9883\n",
              "ean                     9329\n",
              "imageURLs                  0\n",
              "keys                       0\n",
              "manufacturer            9473\n",
              "manufacturerNumber      7518\n",
              "name                       0\n",
              "prices.amountMax           0\n",
              "prices.amountMin           0\n",
              "prices.availability     9566\n",
              "prices.color               0\n",
              "prices.condition        9562\n",
              "prices.currency            0\n",
              "prices.dateAdded         777\n",
              "prices.dateSeen            0\n",
              "prices.isSale              0\n",
              "prices.merchant         9565\n",
              "prices.offer            9879\n",
              "prices.returnPolicy    10000\n",
              "prices.shipping         9588\n",
              "prices.size                0\n",
              "prices.sourceURLs          0\n",
              "sizes                      0\n",
              "sourceURLs                 0\n",
              "upc                      360\n",
              "weight                  9701\n",
              "dtype: int64"
            ]
          },
          "metadata": {
            "tags": []
          },
          "execution_count": 6
        }
      ]
    },
    {
      "cell_type": "code",
      "metadata": {
        "id": "9il96LHhMKoK",
        "colab_type": "code",
        "colab": {
          "base_uri": "https://localhost:8080/",
          "height": 217
        },
        "outputId": "343167a4-df61-4129-8087-5434b9a76c8f"
      },
      "source": [
        "# Turn categorical variables into numbers\n",
        "for label, content in df_temp.items():\n",
        "    if not pd.api.types.is_numeric_dtype(content):\n",
        "        # # Add binary column to inidicate whether sample had missing value\n",
        "        # df_temp[label+\"_is_missing\"] = pd.isnull(content)\n",
        "        # Add the +1 because pandas encodes missing categories as -1\n",
        "        df_temp[label] = pd.Categorical(content).codes+1   \n",
        "df_temp.head(5)"
      ],
      "execution_count": 7,
      "outputs": [
        {
          "output_type": "execute_result",
          "data": {
            "text/html": [
              "<div>\n",
              "<style scoped>\n",
              "    .dataframe tbody tr th:only-of-type {\n",
              "        vertical-align: middle;\n",
              "    }\n",
              "\n",
              "    .dataframe tbody tr th {\n",
              "        vertical-align: top;\n",
              "    }\n",
              "\n",
              "    .dataframe thead th {\n",
              "        text-align: right;\n",
              "    }\n",
              "</style>\n",
              "<table border=\"1\" class=\"dataframe\">\n",
              "  <thead>\n",
              "    <tr style=\"text-align: right;\">\n",
              "      <th></th>\n",
              "      <th>id</th>\n",
              "      <th>dateAdded</th>\n",
              "      <th>dateUpdated</th>\n",
              "      <th>asins</th>\n",
              "      <th>brand</th>\n",
              "      <th>categories</th>\n",
              "      <th>primaryCategories</th>\n",
              "      <th>colors</th>\n",
              "      <th>dimension</th>\n",
              "      <th>ean</th>\n",
              "      <th>imageURLs</th>\n",
              "      <th>keys</th>\n",
              "      <th>manufacturer</th>\n",
              "      <th>manufacturerNumber</th>\n",
              "      <th>name</th>\n",
              "      <th>prices.amountMax</th>\n",
              "      <th>prices.amountMin</th>\n",
              "      <th>prices.availability</th>\n",
              "      <th>prices.color</th>\n",
              "      <th>prices.condition</th>\n",
              "      <th>prices.currency</th>\n",
              "      <th>prices.dateAdded</th>\n",
              "      <th>prices.dateSeen</th>\n",
              "      <th>prices.isSale</th>\n",
              "      <th>prices.merchant</th>\n",
              "      <th>prices.offer</th>\n",
              "      <th>prices.returnPolicy</th>\n",
              "      <th>prices.shipping</th>\n",
              "      <th>prices.size</th>\n",
              "      <th>prices.sourceURLs</th>\n",
              "      <th>sizes</th>\n",
              "      <th>sourceURLs</th>\n",
              "      <th>upc</th>\n",
              "      <th>weight</th>\n",
              "    </tr>\n",
              "  </thead>\n",
              "  <tbody>\n",
              "    <tr>\n",
              "      <th>0</th>\n",
              "      <td>390</td>\n",
              "      <td>1</td>\n",
              "      <td>210</td>\n",
              "      <td>0</td>\n",
              "      <td>45</td>\n",
              "      <td>5</td>\n",
              "      <td>1</td>\n",
              "      <td>188</td>\n",
              "      <td>0</td>\n",
              "      <td>NaN</td>\n",
              "      <td>163</td>\n",
              "      <td>527</td>\n",
              "      <td>0</td>\n",
              "      <td>38</td>\n",
              "      <td>427</td>\n",
              "      <td>55.99</td>\n",
              "      <td>55.99</td>\n",
              "      <td>0</td>\n",
              "      <td>506</td>\n",
              "      <td>0</td>\n",
              "      <td>1</td>\n",
              "      <td>3</td>\n",
              "      <td>3</td>\n",
              "      <td>False</td>\n",
              "      <td>5</td>\n",
              "      <td>0</td>\n",
              "      <td>NaN</td>\n",
              "      <td>0</td>\n",
              "      <td>71</td>\n",
              "      <td>686</td>\n",
              "      <td>261</td>\n",
              "      <td>631</td>\n",
              "      <td>1</td>\n",
              "      <td>0</td>\n",
              "    </tr>\n",
              "    <tr>\n",
              "      <th>1</th>\n",
              "      <td>456</td>\n",
              "      <td>87</td>\n",
              "      <td>8</td>\n",
              "      <td>0</td>\n",
              "      <td>40</td>\n",
              "      <td>19</td>\n",
              "      <td>1</td>\n",
              "      <td>122</td>\n",
              "      <td>0</td>\n",
              "      <td>3.397705e+10</td>\n",
              "      <td>136</td>\n",
              "      <td>521</td>\n",
              "      <td>11</td>\n",
              "      <td>6</td>\n",
              "      <td>407</td>\n",
              "      <td>47.00</td>\n",
              "      <td>35.25</td>\n",
              "      <td>1</td>\n",
              "      <td>282</td>\n",
              "      <td>1</td>\n",
              "      <td>1</td>\n",
              "      <td>1307</td>\n",
              "      <td>1439</td>\n",
              "      <td>True</td>\n",
              "      <td>11</td>\n",
              "      <td>0</td>\n",
              "      <td>NaN</td>\n",
              "      <td>5</td>\n",
              "      <td>38</td>\n",
              "      <td>743</td>\n",
              "      <td>4</td>\n",
              "      <td>628</td>\n",
              "      <td>3</td>\n",
              "      <td>0</td>\n",
              "    </tr>\n",
              "    <tr>\n",
              "      <th>2</th>\n",
              "      <td>456</td>\n",
              "      <td>87</td>\n",
              "      <td>8</td>\n",
              "      <td>0</td>\n",
              "      <td>40</td>\n",
              "      <td>19</td>\n",
              "      <td>1</td>\n",
              "      <td>122</td>\n",
              "      <td>0</td>\n",
              "      <td>3.397705e+10</td>\n",
              "      <td>136</td>\n",
              "      <td>521</td>\n",
              "      <td>11</td>\n",
              "      <td>6</td>\n",
              "      <td>407</td>\n",
              "      <td>35.25</td>\n",
              "      <td>35.25</td>\n",
              "      <td>1</td>\n",
              "      <td>282</td>\n",
              "      <td>1</td>\n",
              "      <td>1</td>\n",
              "      <td>407</td>\n",
              "      <td>345</td>\n",
              "      <td>False</td>\n",
              "      <td>7</td>\n",
              "      <td>0</td>\n",
              "      <td>NaN</td>\n",
              "      <td>7</td>\n",
              "      <td>38</td>\n",
              "      <td>743</td>\n",
              "      <td>4</td>\n",
              "      <td>628</td>\n",
              "      <td>3</td>\n",
              "      <td>0</td>\n",
              "    </tr>\n",
              "    <tr>\n",
              "      <th>3</th>\n",
              "      <td>470</td>\n",
              "      <td>89</td>\n",
              "      <td>20</td>\n",
              "      <td>0</td>\n",
              "      <td>40</td>\n",
              "      <td>10</td>\n",
              "      <td>2</td>\n",
              "      <td>13</td>\n",
              "      <td>16</td>\n",
              "      <td>3.397705e+10</td>\n",
              "      <td>172</td>\n",
              "      <td>1</td>\n",
              "      <td>11</td>\n",
              "      <td>7</td>\n",
              "      <td>406</td>\n",
              "      <td>24.75</td>\n",
              "      <td>24.75</td>\n",
              "      <td>1</td>\n",
              "      <td>25</td>\n",
              "      <td>1</td>\n",
              "      <td>1</td>\n",
              "      <td>1325</td>\n",
              "      <td>1415</td>\n",
              "      <td>False</td>\n",
              "      <td>7</td>\n",
              "      <td>0</td>\n",
              "      <td>NaN</td>\n",
              "      <td>7</td>\n",
              "      <td>38</td>\n",
              "      <td>742</td>\n",
              "      <td>4</td>\n",
              "      <td>627</td>\n",
              "      <td>4</td>\n",
              "      <td>0</td>\n",
              "    </tr>\n",
              "    <tr>\n",
              "      <th>4</th>\n",
              "      <td>441</td>\n",
              "      <td>89</td>\n",
              "      <td>71</td>\n",
              "      <td>0</td>\n",
              "      <td>40</td>\n",
              "      <td>10</td>\n",
              "      <td>1</td>\n",
              "      <td>122</td>\n",
              "      <td>16</td>\n",
              "      <td>3.397705e+10</td>\n",
              "      <td>148</td>\n",
              "      <td>522</td>\n",
              "      <td>0</td>\n",
              "      <td>8</td>\n",
              "      <td>406</td>\n",
              "      <td>33.00</td>\n",
              "      <td>30.39</td>\n",
              "      <td>1</td>\n",
              "      <td>282</td>\n",
              "      <td>1</td>\n",
              "      <td>1</td>\n",
              "      <td>352</td>\n",
              "      <td>520</td>\n",
              "      <td>True</td>\n",
              "      <td>11</td>\n",
              "      <td>0</td>\n",
              "      <td>NaN</td>\n",
              "      <td>1</td>\n",
              "      <td>38</td>\n",
              "      <td>741</td>\n",
              "      <td>4</td>\n",
              "      <td>626</td>\n",
              "      <td>5</td>\n",
              "      <td>0</td>\n",
              "    </tr>\n",
              "  </tbody>\n",
              "</table>\n",
              "</div>"
            ],
            "text/plain": [
              "    id  dateAdded  dateUpdated  asins  ...  sizes  sourceURLs  upc  weight\n",
              "0  390          1          210      0  ...    261         631    1       0\n",
              "1  456         87            8      0  ...      4         628    3       0\n",
              "2  456         87            8      0  ...      4         628    3       0\n",
              "3  470         89           20      0  ...      4         627    4       0\n",
              "4  441         89           71      0  ...      4         626    5       0\n",
              "\n",
              "[5 rows x 34 columns]"
            ]
          },
          "metadata": {
            "tags": []
          },
          "execution_count": 7
        }
      ]
    },
    {
      "cell_type": "code",
      "metadata": {
        "id": "tAPoRaC1S3Rz",
        "colab_type": "code",
        "colab": {}
      },
      "source": [
        "# Form final X and y for Model and setup train/ test data\n",
        "X = df_temp['brand']\n",
        "y = (df['prices.amountMax'] + df['prices.amountMin']) / 2\n",
        "X_train, X_test, y_train, y_test = train_test_split(X.values.reshape(-1,1),y.values.reshape(-1,1), test_size=0.2)"
      ],
      "execution_count": 8,
      "outputs": []
    },
    {
      "cell_type": "markdown",
      "metadata": {
        "id": "FgaRF9tPMglr",
        "colab_type": "text"
      },
      "source": [
        "# Setup SKlearn Model"
      ]
    },
    {
      "cell_type": "code",
      "metadata": {
        "id": "5YEvXKMwMl1A",
        "colab_type": "code",
        "colab": {}
      },
      "source": [
        "# Fit Random Forest Regressor Model to Data\n",
        "model = RandomForestRegressor(n_jobs=-1)\n",
        "model.fit(X_train, y_train)"
      ],
      "execution_count": null,
      "outputs": []
    },
    {
      "cell_type": "code",
      "metadata": {
        "id": "pZ3fcG7BWYqd",
        "colab_type": "code",
        "colab": {}
      },
      "source": [
        "# Functions to Evaluate Model\n",
        "def rmsle(y_test, y_preds):\n",
        "    return np.sqrt(mean_squared_log_error(y_test, y_preds))\n",
        "\n",
        "# Create function to evaluate our model\n",
        "def show_scores(model):\n",
        "    train_preds = model.predict(X_train)\n",
        "    val_preds = model.predict(X_test)\n",
        "    scores = {\"Training MAE\": mean_absolute_error(y_train, train_preds),\n",
        "              \"Valid MAE\": mean_absolute_error(y_test, val_preds),\n",
        "              \"Training RMSLE\": rmsle(y_train, train_preds),\n",
        "              \"Valid RMSLE\": rmsle(y_test, val_preds),\n",
        "              \"Training R^2 (accuracy)\": model.score(X_train, y_train),\n",
        "              \"Test R^2 (accuracy)\": model.score(X_test, y_test)}\n",
        "    return scores"
      ],
      "execution_count": 10,
      "outputs": []
    },
    {
      "cell_type": "code",
      "metadata": {
        "id": "6H9lDrdwWxiF",
        "colab_type": "code",
        "colab": {
          "base_uri": "https://localhost:8080/",
          "height": 117
        },
        "outputId": "46ba64ab-15fb-43d0-c9bb-54da39aa500a"
      },
      "source": [
        "show_scores(model)"
      ],
      "execution_count": 11,
      "outputs": [
        {
          "output_type": "execute_result",
          "data": {
            "text/plain": [
              "{'Test R^2 (accuracy)': 0.6774219895267201,\n",
              " 'Training MAE': 7.672458186267788,\n",
              " 'Training RMSLE': 0.18100585826910057,\n",
              " 'Training R^2 (accuracy)': 0.6793651392598746,\n",
              " 'Valid MAE': 8.14321619046561,\n",
              " 'Valid RMSLE': 0.18814072759810913}"
            ]
          },
          "metadata": {
            "tags": []
          },
          "execution_count": 11
        }
      ]
    },
    {
      "cell_type": "markdown",
      "metadata": {
        "id": "mELu-T1qY99O",
        "colab_type": "text"
      },
      "source": [
        "# Improve SKlearn Model with Randomized search"
      ]
    },
    {
      "cell_type": "code",
      "metadata": {
        "id": "NGonFLmEZDwC",
        "colab_type": "code",
        "colab": {}
      },
      "source": [
        "# Different RandomForestClassifier hyperparameters\n",
        "rf_grid = {\"n_estimators\": np.arange(10, 100, 10),\n",
        "           \"max_depth\": [None, 3, 5, 10],\n",
        "           \"min_samples_split\": np.arange(2, 20, 2),\n",
        "           \"min_samples_leaf\": np.arange(1, 20, 2),\n",
        "           \"max_features\": [0.5, 1, \"sqrt\", \"auto\"],\n",
        "           }\n",
        "\n",
        "rs_model = RandomizedSearchCV(RandomForestRegressor(),\n",
        "                              param_distributions=rf_grid,\n",
        "                              n_iter=20,\n",
        "                              cv=5,\n",
        "                              verbose=True)\n",
        "\n",
        "rs_model.fit(X_train, y_train)"
      ],
      "execution_count": null,
      "outputs": []
    },
    {
      "cell_type": "code",
      "metadata": {
        "id": "3TzwtCTTZiuM",
        "colab_type": "code",
        "colab": {
          "base_uri": "https://localhost:8080/",
          "height": 100
        },
        "outputId": "a0b32654-248d-4954-e0f9-c520ce69820a"
      },
      "source": [
        "# Find best Parameters\n",
        "rs_model.best_params_"
      ],
      "execution_count": 13,
      "outputs": [
        {
          "output_type": "execute_result",
          "data": {
            "text/plain": [
              "{'max_depth': 10,\n",
              " 'max_features': 0.5,\n",
              " 'min_samples_leaf': 1,\n",
              " 'min_samples_split': 4,\n",
              " 'n_estimators': 60}"
            ]
          },
          "metadata": {
            "tags": []
          },
          "execution_count": 13
        }
      ]
    },
    {
      "cell_type": "code",
      "metadata": {
        "id": "5iMuFypOZp5K",
        "colab_type": "code",
        "colab": {}
      },
      "source": [
        "best_param_model = RandomForestRegressor(n_estimators=60,\n",
        "                                          min_samples_leaf=1,\n",
        "                                          min_samples_split=4,\n",
        "                                          max_features=0.5,\n",
        "                                          n_jobs=-1,\n",
        "                                          max_samples=None,\n",
        "                                          max_depth=10)\n",
        "best_param_model.fit(X_train, y_train)"
      ],
      "execution_count": null,
      "outputs": []
    },
    {
      "cell_type": "code",
      "metadata": {
        "id": "1UsCCw00abSu",
        "colab_type": "code",
        "colab": {
          "base_uri": "https://localhost:8080/",
          "height": 117
        },
        "outputId": "d2296edf-35d2-4863-a87e-dd72e0b1a676"
      },
      "source": [
        "show_scores(best_param_model)"
      ],
      "execution_count": 22,
      "outputs": [
        {
          "output_type": "execute_result",
          "data": {
            "text/plain": [
              "{'Test R^2 (accuracy)': 0.6528212179530076,\n",
              " 'Training MAE': 7.906661482272987,\n",
              " 'Training RMSLE': 0.18904687728547917,\n",
              " 'Training R^2 (accuracy)': 0.6455586239088651,\n",
              " 'Valid MAE': 8.339397127088935,\n",
              " 'Valid RMSLE': 0.19468645198291645}"
            ]
          },
          "metadata": {
            "tags": []
          },
          "execution_count": 22
        }
      ]
    },
    {
      "cell_type": "markdown",
      "metadata": {
        "id": "9eaMd0nbbY_j",
        "colab_type": "text"
      },
      "source": [
        "Note: Random Forest Regressor model didn't perform too well even after using best params"
      ]
    },
    {
      "cell_type": "markdown",
      "metadata": {
        "id": "6yUz_0M2MmUT",
        "colab_type": "text"
      },
      "source": [
        "# Setup Tensorflow Model"
      ]
    },
    {
      "cell_type": "code",
      "metadata": {
        "id": "TGr9vyJpZht-",
        "colab_type": "code",
        "colab": {}
      },
      "source": [
        "# TODO: Complete Tensorflow model and test data."
      ],
      "execution_count": 16,
      "outputs": []
    },
    {
      "cell_type": "code",
      "metadata": {
        "id": "kO09PF3oMoOT",
        "colab_type": "code",
        "colab": {}
      },
      "source": [
        "def build_model():\n",
        "  model = keras.Sequential([\n",
        "    keras.layers.Dense(64, activation='relu', input_shape=len(X.keys())),\n",
        "    keras.layers.Dense(64, activation='relu'),\n",
        "    keras.layers.Dense(1)\n",
        "  ])\n",
        "\n",
        "  optimizer = tf.keras.optimizers.RMSprop(0.001)\n",
        "\n",
        "  model.compile(loss='mse',\n",
        "                optimizer=optimizer,\n",
        "                metrics=['mae', 'mse'])\n",
        "  return model"
      ],
      "execution_count": 17,
      "outputs": []
    },
    {
      "cell_type": "code",
      "metadata": {
        "id": "cY9pw1lSMyNo",
        "colab_type": "code",
        "colab": {}
      },
      "source": [
        "# model_TF = build_model()"
      ],
      "execution_count": 18,
      "outputs": []
    }
  ]
}