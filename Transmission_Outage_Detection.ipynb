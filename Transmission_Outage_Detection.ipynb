{
 "cells": [
  {
   "cell_type": "markdown",
   "metadata": {},
   "source": [
    "# Notebook used for determining downed Transmission Lines"
   ]
  },
  {
   "cell_type": "code",
   "execution_count": 1,
   "metadata": {},
   "outputs": [],
   "source": [
    "from tensorflow import keras\n",
    "import tensorflow as tf\n",
    "\n",
    "import numpy as np\n",
    "import pandas as pd\n",
    "import matplotlib.pyplot as plt\n",
    "from tensorflow.keras import datasets, layers, models\n",
    "import pandas\n",
    "from keras.models import Sequential\n",
    "from keras.layers import Dense, Conv1D, Dropout, MaxPooling1D, Flatten, LSTM\n",
    "from sklearn.preprocessing import MinMaxScaler"
   ]
  },
  {
   "cell_type": "markdown",
   "metadata": {},
   "source": [
    "Preprocessing Functions"
   ]
  },
  {
   "cell_type": "code",
   "execution_count": 2,
   "metadata": {},
   "outputs": [],
   "source": [
    "def binary_data(data):\n",
    "    shape = data.shape\n",
    "    r, c = shape[0], shape[1]\n",
    "    for i in range(r):\n",
    "        for j in range(c):\n",
    "            data.iloc[i][j] = data.iloc[i][j] / float((1.4013 ** (-45)))\n",
    "            if data.iloc[i][j] > 0:\n",
    "                data.iloc[i][j] = 1\n",
    "    return data\n",
    "\n",
    "def output_dat(data):\n",
    "    t1 = data[1]\n",
    "    t2 = data[3]\n",
    "    t3 = data[4]\n",
    "    t4 = data[6]\n",
    "    t5 = data[7]\n",
    "    t6 = data[8]\n",
    "    t7 = data[9]\n",
    "    return t1, t2, t3, t4, t5, t6, t7"
   ]
  },
  {
   "cell_type": "markdown",
   "metadata": {},
   "source": [
    "## Tensorflow Models For Detecting Outages. CNN (LeNet5) and MLP"
   ]
  },
  {
   "cell_type": "code",
   "execution_count": 3,
   "metadata": {},
   "outputs": [],
   "source": [
    "# List of Potential Models\n",
    "def cnn_1():\n",
    "    dim = (94, 1)\n",
    "    x_input = tf.keras.Input(shape=dim)\n",
    "    x = Conv1D(94, kernel_size=2, padding='same', activation='relu')(x_input)\n",
    "    x = MaxPooling1D(2, padding='same')(x)\n",
    "    x = Conv1D(24, kernel_size=2, padding='same', activation='relu')(x)\n",
    "    x = MaxPooling1D(2, padding='same')(x)\n",
    "    x = Conv1D(64, kernel_size=2, padding='same', activation='relu')(x)\n",
    "    x = Flatten()(x)\n",
    "    x = Dense(16, activation=\"softmax\")(x)\n",
    "    model = tf.keras.models.Model(inputs=[x_input], outputs=[x])\n",
    "    model.compile(loss='categorical_crossentropy', optimizer=\"sgd\", metrics=['accuracy'])\n",
    "    return model\n",
    "\n",
    "def cnn_2():\n",
    "    dim = (94, 1)\n",
    "    x_input = tf.keras.Input(shape=dim)\n",
    "    x = Conv1D(filters=32, kernel_size=3, activation='relu')(x_input)\n",
    "    x = Conv1D(filters=64, kernel_size=3, activation='relu')(x)\n",
    "    x = Dropout(0.5)(x)\n",
    "    x = MaxPooling1D(pool_size=2)(x)\n",
    "    x = Flatten()(x)\n",
    "    x = Dense(100, activation='relu')(x)\n",
    "    x = Dense(16, activation='softmax')(x)\n",
    "    model = tf.keras.models.Model(inputs=[x_input], outputs=[x])\n",
    "    model.compile(loss='categorical_crossentropy', optimizer='sgd', metrics=['accuracy'])\n",
    "    return model\n",
    "\n",
    "def cnn_3():\n",
    "    dim = (94, 1)\n",
    "    x_input = tf.keras.Input(shape=dim)\n",
    "    x = Conv1D(filters=64, kernel_size=3, activation='relu')(x_input)\n",
    "    x = Flatten()(x)\n",
    "    x = Dense(128, activation='relu')(x)\n",
    "    x = Dense(16, activation='softmax')(x)\n",
    "    model = tf.keras.models.Model(inputs=[x_input], outputs=[x])\n",
    "#     opt = tf.keras.optimizers.Adam(lr=0.01, beta_1=0.9, beta_2=0.999, epsilon=None, decay=0.0, amsgrad=True)\n",
    "    model.compile(loss='categorical_crossentropy', optimizer='sgd', metrics=['accuracy'])\n",
    "    return model    \n",
    "    \n",
    "def mlp():\n",
    "    dim = (94)\n",
    "    x_input = tf.keras.Input(shape=dim)\n",
    "    x = Dense(100, activation='relu')(x_input)\n",
    "    x = Dense(50, activation='relu')(x)\n",
    "    x = Dense(25, activation='relu')(x)\n",
    "#     x = Dense(25, activation='relu')(x)\n",
    "    x = Dense(16)(x)\n",
    "    model = tf.keras.models.Model(inputs=[x_input], outputs=[x])\n",
    "    model.compile(loss='categorical_crossentropy', optimizer='Adam', metrics=['accuracy'])\n",
    "    return model\n",
    "    \n",
    "def mlp2(): # Test Purposes\n",
    "    dim = (94)\n",
    "    x_input = tf.keras.Input(shape=dim)\n",
    "    x = Dense(100, activation='relu')(x_input)\n",
    "    x = Dense(50, activation='relu')(x)\n",
    "    x = Dense(25, activation='relu')(x)\n",
    "    \n",
    "    x1= Dense(1, name='Line1', activation='sigmoid')(x)\n",
    "    x2= Dense(1, name='Line2', activation='sigmoid')(x)\n",
    "    x3= Dense(1, name='Line3', activation='sigmoid')(x)\n",
    "    x4= Dense(1, name='Line4', activation='sigmoid')(x)\n",
    "    x5= Dense(1, name='Line5', activation='sigmoid')(x)\n",
    "    x6= Dense(1, name='Line6', activation='sigmoid')(x)\n",
    "    x7= Dense(1, name='Line7', activation='sigmoid')(x)\n",
    "    \n",
    "    opt = tf.keras.optimizers.Adam(lr=0.001)\n",
    "\n",
    "    model = tf.keras.models.Model(inputs=[x_input], outputs=[x1,x2,x3,x4,x5,x6,x7])\n",
    "    model.compile(loss='binary_crossentropy', optimizer=opt, metrics=['accuracy'])\n",
    "    return model\n",
    "\n",
    "def cnn_4(): # Testing LeNet5 Model, Parameters can be tweeked\n",
    "    dim = (94, 1)\n",
    "    x_input = tf.keras.Input(shape=dim)\n",
    "    x = Conv1D(94, kernel_size=2, padding='same', activation='relu')(x_input)\n",
    "    x = MaxPooling1D(2, padding='same')(x)\n",
    "    x = Conv1D(24, kernel_size=2, padding='same', activation='relu')(x)\n",
    "    x = MaxPooling1D(2, padding='same')(x)\n",
    "    x = Conv1D(64, kernel_size=2, padding='same', activation='relu')(x)\n",
    "    x = Flatten()(x)\n",
    "    \n",
    "    x1= Dense(1, activation='sigmoid', name='Line1')(x)\n",
    "    x2= Dense(1, activation='sigmoid', name='Line2')(x)\n",
    "    x3= Dense(1, activation='sigmoid', name='Line3')(x)\n",
    "    x4= Dense(1, activation='sigmoid', name='Line4')(x)\n",
    "    x5= Dense(1, activation='sigmoid', name='Line5')(x)\n",
    "    x6= Dense(1, activation='sigmoid', name='Line6')(x)\n",
    "    x7= Dense(1, activation='sigmoid', name='Line7')(x)\n",
    "    \n",
    "    model = tf.keras.models.Model(inputs=[x_input], outputs=[x1,x2,x3,x4,x5,x6,x7])\n",
    "    model.compile(loss='binary_crossentropy', optimizer='Adam', metrics=['accuracy'])\n",
    "    return model"
   ]
  },
  {
   "cell_type": "markdown",
   "metadata": {},
   "source": [
    "## Preprocessing of Data"
   ]
  },
  {
   "cell_type": "code",
   "execution_count": 4,
   "metadata": {},
   "outputs": [],
   "source": [
    "# Preprocess data correctly\n",
    "\n",
    "scaler = MinMaxScaler()\n",
    "train_input = pd.read_csv(\"train_input.csv\",header=None).transpose()\n",
    "test_input = pd.read_csv(\"test_input.csv\", header=None).transpose()\n",
    "train_input_c = scaler.fit_transform(train_input)\n",
    "test_input_c = scaler.fit_transform(test_input)\n",
    "\n",
    "train_output = pd.read_csv(\"train_output.csv\",header=None)\n",
    "train_output = binary_data(train_output)\n",
    "train_output = train_output.transpose()\n",
    "test_output = pd.read_csv(\"test_output_c.csv\", header=None).transpose() # Data already put between 0,1\n",
    "\n",
    "# List of data for 7 different features of model\n",
    "tr_out = output_dat(train_output)\n",
    "te_out = output_dat(test_output)"
   ]
  },
  {
   "cell_type": "markdown",
   "metadata": {},
   "source": [
    "## Load and Fit Model"
   ]
  },
  {
   "cell_type": "code",
   "execution_count": 5,
   "metadata": {},
   "outputs": [
    {
     "name": "stdout",
     "output_type": "stream",
     "text": [
      "Epoch 1/10\n",
      "253/253 [==============================] - 7s 26ms/step - loss: 1.7638 - Line1_loss: 0.2527 - Line2_loss: 0.2463 - Line3_loss: 0.2513 - Line4_loss: 0.2569 - Line5_loss: 0.2409 - Line6_loss: 0.2599 - Line7_loss: 0.2558 - Line1_accuracy: 0.9302 - Line2_accuracy: 0.9335 - Line3_accuracy: 0.9278 - Line4_accuracy: 0.9353 - Line5_accuracy: 0.9285 - Line6_accuracy: 0.9297 - Line7_accuracy: 0.9300 - val_loss: 0.9920 - val_Line1_loss: 0.1343 - val_Line2_loss: 0.1191 - val_Line3_loss: 0.1303 - val_Line4_loss: 0.1536 - val_Line5_loss: 0.1218 - val_Line6_loss: 0.1716 - val_Line7_loss: 0.1613 - val_Line1_accuracy: 0.9612 - val_Line2_accuracy: 0.9576 - val_Line3_accuracy: 0.9579 - val_Line4_accuracy: 0.9577 - val_Line5_accuracy: 0.9575 - val_Line6_accuracy: 0.9575 - val_Line7_accuracy: 0.9593\n",
      "Epoch 2/10\n",
      "253/253 [==============================] - 6s 24ms/step - loss: 0.4462 - Line1_loss: 0.0266 - Line2_loss: 0.0208 - Line3_loss: 0.0286 - Line4_loss: 0.0693 - Line5_loss: 0.0666 - Line6_loss: 0.1197 - Line7_loss: 0.1146 - Line1_accuracy: 0.9908 - Line2_accuracy: 0.9929 - Line3_accuracy: 0.9897 - Line4_accuracy: 0.9789 - Line5_accuracy: 0.9820 - Line6_accuracy: 0.9646 - Line7_accuracy: 0.9625 - val_loss: 0.0412 - val_Line1_loss: 3.5257e-04 - val_Line2_loss: 3.7466e-05 - val_Line3_loss: 4.9342e-04 - val_Line4_loss: 0.0044 - val_Line5_loss: 0.0098 - val_Line6_loss: 0.0126 - val_Line7_loss: 0.0135 - val_Line1_accuracy: 1.0000 - val_Line2_accuracy: 1.0000 - val_Line3_accuracy: 1.0000 - val_Line4_accuracy: 1.0000 - val_Line5_accuracy: 0.9989 - val_Line6_accuracy: 0.9961 - val_Line7_accuracy: 0.9999\n",
      "Epoch 3/10\n",
      "253/253 [==============================] - 7s 27ms/step - loss: 0.0292 - Line1_loss: 7.4104e-05 - Line2_loss: 0.0013 - Line3_loss: 9.2479e-04 - Line4_loss: 0.0036 - Line5_loss: 0.0068 - Line6_loss: 0.0090 - Line7_loss: 0.0074 - Line1_accuracy: 1.0000 - Line2_accuracy: 0.9999 - Line3_accuracy: 0.9999 - Line4_accuracy: 0.9998 - Line5_accuracy: 0.9988 - Line6_accuracy: 0.9985 - Line7_accuracy: 0.9994 - val_loss: 0.0092 - val_Line1_loss: 2.9725e-05 - val_Line2_loss: 7.1097e-04 - val_Line3_loss: 4.4821e-05 - val_Line4_loss: 9.8507e-04 - val_Line5_loss: 0.0027 - val_Line6_loss: 0.0024 - val_Line7_loss: 0.0023 - val_Line1_accuracy: 1.0000 - val_Line2_accuracy: 1.0000 - val_Line3_accuracy: 1.0000 - val_Line4_accuracy: 1.0000 - val_Line5_accuracy: 0.9992 - val_Line6_accuracy: 0.9997 - val_Line7_accuracy: 1.0000\n",
      "Epoch 4/10\n",
      "253/253 [==============================] - 7s 26ms/step - loss: 0.0110 - Line1_loss: 1.5059e-05 - Line2_loss: 9.6261e-04 - Line3_loss: 8.2982e-04 - Line4_loss: 0.0024 - Line5_loss: 0.0026 - Line6_loss: 0.0023 - Line7_loss: 0.0018 - Line1_accuracy: 1.0000 - Line2_accuracy: 0.9999 - Line3_accuracy: 0.9999 - Line4_accuracy: 0.9998 - Line5_accuracy: 0.9994 - Line6_accuracy: 0.9998 - Line7_accuracy: 1.0000 - val_loss: 0.0042 - val_Line1_loss: 9.1514e-06 - val_Line2_loss: 4.4479e-06 - val_Line3_loss: 1.4786e-05 - val_Line4_loss: 4.2526e-04 - val_Line5_loss: 9.9218e-04 - val_Line6_loss: 0.0018 - val_Line7_loss: 9.2470e-04 - val_Line1_accuracy: 1.0000 - val_Line2_accuracy: 1.0000 - val_Line3_accuracy: 1.0000 - val_Line4_accuracy: 1.0000 - val_Line5_accuracy: 0.9997 - val_Line6_accuracy: 0.9997 - val_Line7_accuracy: 1.0000\n",
      "Epoch 5/10\n",
      "253/253 [==============================] - 7s 29ms/step - loss: 0.0085 - Line1_loss: 6.4859e-06 - Line2_loss: 0.0011 - Line3_loss: 8.1149e-04 - Line4_loss: 0.0027 - Line5_loss: 0.0013 - Line6_loss: 0.0018 - Line7_loss: 8.3273e-04 - Line1_accuracy: 1.0000 - Line2_accuracy: 0.9999 - Line3_accuracy: 0.9999 - Line4_accuracy: 0.9996 - Line5_accuracy: 0.9996 - Line6_accuracy: 0.9998 - Line7_accuracy: 1.0000 - val_loss: 0.0032 - val_Line1_loss: 5.1593e-06 - val_Line2_loss: 2.4141e-06 - val_Line3_loss: 3.4360e-05 - val_Line4_loss: 4.3157e-04 - val_Line5_loss: 6.4499e-04 - val_Line6_loss: 0.0016 - val_Line7_loss: 5.2969e-04 - val_Line1_accuracy: 1.0000 - val_Line2_accuracy: 1.0000 - val_Line3_accuracy: 1.0000 - val_Line4_accuracy: 1.0000 - val_Line5_accuracy: 1.0000 - val_Line6_accuracy: 0.9997 - val_Line7_accuracy: 1.0000\n",
      "Epoch 6/10\n",
      "253/253 [==============================] - 7s 28ms/step - loss: 0.0068 - Line1_loss: 4.5152e-06 - Line2_loss: 8.2767e-04 - Line3_loss: 7.3461e-04 - Line4_loss: 0.0023 - Line5_loss: 7.4744e-04 - Line6_loss: 0.0017 - Line7_loss: 5.2534e-04 - Line1_accuracy: 1.0000 - Line2_accuracy: 0.9999 - Line3_accuracy: 0.9999 - Line4_accuracy: 0.9996 - Line5_accuracy: 0.9999 - Line6_accuracy: 0.9998 - Line7_accuracy: 1.0000 - val_loss: 0.0035 - val_Line1_loss: 3.9253e-06 - val_Line2_loss: 2.0358e-06 - val_Line3_loss: 6.4110e-04 - val_Line4_loss: 1.4625e-04 - val_Line5_loss: 3.9936e-04 - val_Line6_loss: 0.0019 - val_Line7_loss: 3.6732e-04 - val_Line1_accuracy: 1.0000 - val_Line2_accuracy: 1.0000 - val_Line3_accuracy: 1.0000 - val_Line4_accuracy: 1.0000 - val_Line5_accuracy: 1.0000 - val_Line6_accuracy: 0.9997 - val_Line7_accuracy: 1.0000oss: 0.0025 - Line3_loss: 2.9224e-05 - Line4_loss: 0.0027 - Line5_loss: 6.2453e-04 - Line6_loss: 4.3222e-04 - Line7_loss: 6.3314e-04 - Line1_accuracy: 1.0000 - Line2_accuracy: 0.9996 - Line3_accuracy: 1.0000 - Line4_accuracy: 0.9996 - Line5_accuracy\n",
      "Epoch 7/10\n",
      "253/253 [==============================] - 7s 27ms/step - loss: 0.0061 - Line1_loss: 3.1604e-06 - Line2_loss: 8.0593e-04 - Line3_loss: 8.3097e-04 - Line4_loss: 0.0021 - Line5_loss: 4.6641e-04 - Line6_loss: 0.0015 - Line7_loss: 3.3933e-04 - Line1_accuracy: 1.0000 - Line2_accuracy: 0.9999 - Line3_accuracy: 0.9999 - Line4_accuracy: 0.9998 - Line5_accuracy: 0.9999 - Line6_accuracy: 0.9999 - Line7_accuracy: 1.0000 - val_loss: 0.0113 - val_Line1_loss: 2.3911e-06 - val_Line2_loss: 2.0122e-06 - val_Line3_loss: 0.0030 - val_Line4_loss: 0.0066 - val_Line5_loss: 1.8920e-04 - val_Line6_loss: 0.0013 - val_Line7_loss: 2.4211e-04 - val_Line1_accuracy: 1.0000 - val_Line2_accuracy: 1.0000 - val_Line3_accuracy: 1.0000 - val_Line4_accuracy: 0.9985 - val_Line5_accuracy: 1.0000 - val_Line6_accuracy: 0.9997 - val_Line7_accuracy: 1.0000\n",
      "Epoch 8/10\n",
      "253/253 [==============================] - 7s 28ms/step - loss: 0.0062 - Line1_loss: 2.9907e-06 - Line2_loss: 7.8941e-04 - Line3_loss: 7.7707e-04 - Line4_loss: 0.0028 - Line5_loss: 3.8528e-04 - Line6_loss: 0.0012 - Line7_loss: 2.7864e-04 - Line1_accuracy: 1.0000 - Line2_accuracy: 0.9999 - Line3_accuracy: 0.9999 - Line4_accuracy: 0.9998 - Line5_accuracy: 0.9999 - Line6_accuracy: 0.9999 - Line7_accuracy: 1.0000 - val_loss: 0.0019 - val_Line1_loss: 2.7721e-06 - val_Line2_loss: 2.7515e-06 - val_Line3_loss: 3.1206e-05 - val_Line4_loss: 8.8536e-05 - val_Line5_loss: 2.2151e-04 - val_Line6_loss: 0.0013 - val_Line7_loss: 1.8221e-04 - val_Line1_accuracy: 1.0000 - val_Line2_accuracy: 1.0000 - val_Line3_accuracy: 1.0000 - val_Line4_accuracy: 1.0000 - val_Line5_accuracy: 1.0000 - val_Line6_accuracy: 0.9997 - val_Line7_accuracy: 1.0000_loss: 0.0031 - Line5_loss: 4.0593e-04 - Line6_loss: 0.0013 - Line7_loss: 2.8406e-04 - Line1_accuracy: 1.0000 - Line2_accuracy: 0.9999 - Line3_accuracy: 0.9999 - Line4_accuracy: 0.9997 - Line5_accuracy: 0.9999 - Line6_accuracy: 0.9999 - Line7_accuracy\n",
      "Epoch 9/10\n",
      "253/253 [==============================] - 9s 34ms/step - loss: 0.0053 - Line1_loss: 3.1644e-06 - Line2_loss: 6.4185e-04 - Line3_loss: 7.5824e-04 - Line4_loss: 0.0019 - Line5_loss: 4.0832e-04 - Line6_loss: 0.0013 - Line7_loss: 2.6476e-04 - Line1_accuracy: 1.0000 - Line2_accuracy: 0.9999 - Line3_accuracy: 0.9999 - Line4_accuracy: 0.9998 - Line5_accuracy: 0.9999 - Line6_accuracy: 0.9999 - Line7_accuracy: 1.0000 - val_loss: 0.0018 - val_Line1_loss: 2.4825e-06 - val_Line2_loss: 1.6529e-06 - val_Line3_loss: 5.9230e-06 - val_Line4_loss: 1.1254e-04 - val_Line5_loss: 1.7597e-04 - val_Line6_loss: 0.0014 - val_Line7_loss: 1.4023e-04 - val_Line1_accuracy: 1.0000 - val_Line2_accuracy: 1.0000 - val_Line3_accuracy: 1.0000 - val_Line4_accuracy: 1.0000 - val_Line5_accuracy: 1.0000 - val_Line6_accuracy: 0.9997 - val_Line7_accuracy: 1.0000\n",
      "Epoch 10/10\n"
     ]
    },
    {
     "name": "stdout",
     "output_type": "stream",
     "text": [
      "253/253 [==============================] - 7s 29ms/step - loss: 0.0051 - Line1_loss: 2.7211e-06 - Line2_loss: 7.0353e-04 - Line3_loss: 3.3475e-04 - Line4_loss: 0.0019 - Line5_loss: 2.7292e-04 - Line6_loss: 0.0017 - Line7_loss: 1.7422e-04 - Line1_accuracy: 1.0000 - Line2_accuracy: 0.9999 - Line3_accuracy: 0.9999 - Line4_accuracy: 0.9996 - Line5_accuracy: 0.9999 - Line6_accuracy: 0.9999 - Line7_accuracy: 1.0000 - val_loss: 0.0016 - val_Line1_loss: 1.7780e-06 - val_Line2_loss: 1.6217e-06 - val_Line3_loss: 4.5656e-06 - val_Line4_loss: 5.3331e-05 - val_Line5_loss: 1.2785e-04 - val_Line6_loss: 0.0013 - val_Line7_loss: 1.1169e-04 - val_Line1_accuracy: 1.0000 - val_Line2_accuracy: 1.0000 - val_Line3_accuracy: 1.0000 - val_Line4_accuracy: 1.0000 - val_Line5_accuracy: 1.0000 - val_Line6_accuracy: 0.9997 - val_Line7_accuracy: 1.0000\n"
     ]
    }
   ],
   "source": [
    "# model = cnn_1()\n",
    "model = cnn_4()\n",
    "\n",
    "# data = model.fit(train_input, train_output, validation_data=(test_input, test_output),  epochs=5)\n",
    "data = model.fit(train_input_c, tr_out, validation_data=(test_input_c, te_out),  epochs=10) # 10 epochs is probably overkill"
   ]
  },
  {
   "cell_type": "code",
   "execution_count": 6,
   "metadata": {},
   "outputs": [],
   "source": [
    "# Save the Model\n",
    "# model.save('Model_3_LeNet5_4_multiout')"
   ]
  },
  {
   "cell_type": "code",
   "execution_count": 7,
   "metadata": {},
   "outputs": [],
   "source": [
    "# del model\n",
    "# tf.keras.backend.clear_session()"
   ]
  },
  {
   "cell_type": "code",
   "execution_count": 8,
   "metadata": {},
   "outputs": [],
   "source": [
    "# model = tf.keras.models.load_model(\"Model_3_LeNet5_4_multiout\")"
   ]
  },
  {
   "cell_type": "markdown",
   "metadata": {},
   "source": [
    "## Test the Model on the Test Data (for one set of inputs)"
   ]
  },
  {
   "cell_type": "code",
   "execution_count": 9,
   "metadata": {},
   "outputs": [
    {
     "data": {
      "text/plain": [
       "[array([[8.846425e-08]], dtype=float32),\n",
       " array([[1.]], dtype=float32),\n",
       " array([[1.]], dtype=float32),\n",
       " array([[1.]], dtype=float32),\n",
       " array([[0.99999034]], dtype=float32),\n",
       " array([[0.99992967]], dtype=float32),\n",
       " array([[1.]], dtype=float32)]"
      ]
     },
     "execution_count": 9,
     "metadata": {},
     "output_type": "execute_result"
    }
   ],
   "source": [
    "# Seven Outputs Either 1 or 0, should output [0, 1, 1, 1, 1, 1, 1]\n",
    "x = tf.constant(test_input_c[1], dtype = tf.float32, shape=[1, 94])\n",
    "y =model.predict(x)\n",
    "y"
   ]
  }
 ],
 "metadata": {
  "kernelspec": {
   "display_name": "Python 3",
   "language": "python",
   "name": "python3"
  },
  "language_info": {
   "codemirror_mode": {
    "name": "ipython",
    "version": 3
   },
   "file_extension": ".py",
   "mimetype": "text/x-python",
   "name": "python",
   "nbconvert_exporter": "python",
   "pygments_lexer": "ipython3",
   "version": "3.7.6"
  }
 },
 "nbformat": 4,
 "nbformat_minor": 4
}
