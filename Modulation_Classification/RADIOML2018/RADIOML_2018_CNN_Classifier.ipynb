{
 "cells": [
  {
   "cell_type": "markdown",
   "metadata": {},
   "source": [
    "# CNN for Training RADIOML 2018 Dataset"
   ]
  },
  {
   "cell_type": "code",
   "execution_count": 1,
   "metadata": {},
   "outputs": [],
   "source": [
    "import h5py\n",
    "import matplotlib.pyplot as plt\n",
    "import numpy as np\n",
    "import os\n",
    "import pandas as pd\n",
    "from random import seed\n",
    "from sklearn.model_selection import train_test_split\n",
    "import tensorflow as tf\n",
    "from tensorflow.keras.layers import Conv2D, Dense, BatchNormalization, Activation, MaxPool2D\n",
    "from tensorflow.keras.layers import GlobalAveragePooling2D, AveragePooling2D, Add, Input, Flatten"
   ]
  },
  {
   "cell_type": "markdown",
   "metadata": {},
   "source": [
    "### Import Preprocessed Data"
   ]
  },
  {
   "cell_type": "code",
   "execution_count": 2,
   "metadata": {},
   "outputs": [],
   "source": [
    "def import_data(classes, path=None):\n",
    "    ''' Function imports preprocessed data and labels\n",
    "    \n",
    "    Args:\n",
    "        Classes: ordered list of classes\n",
    "        path: path for input files\n",
    "        \n",
    "    Returns:\n",
    "        Dataset and labels for inputting into tensorflow model\n",
    "        \n",
    "    Raises:\n",
    "        None\n",
    "    \n",
    "    '''\n",
    "    data = []\n",
    "    labels = []\n",
    "    \n",
    "    if path == None:\n",
    "        path = '../Data/RFML_Data/RS_1024/'\n",
    "        width = 1024\n",
    "        ext = '_1024_'\n",
    "    \n",
    "    elif path == 1:\n",
    "        path = '../Data/RFML_Data/RS_128/'\n",
    "        width = 128\n",
    "        ext = '_128_'\n",
    "    \n",
    "    for cls in classes:\n",
    "        temp_D_path = path + cls + ext + 'D.npy'\n",
    "        temp_L_path = path + cls + ext + 'L.npy'\n",
    "        \n",
    "        d = np.load(temp_D_path)\n",
    "        l = np.load(temp_L_path)\n",
    "        \n",
    "        l = np.delete(l, slice(len(classes), 24), 1)\n",
    "        data.append(d)\n",
    "        labels.append(l)\n",
    "\n",
    "    data = np.reshape(data, (len(classes) * 106496, 2, width, 1))\n",
    "    labels = np.reshape(labels, (len(classes) * 106496, len(classes)))\n",
    "\n",
    "    return data, labels"
   ]
  },
  {
   "cell_type": "code",
   "execution_count": 3,
   "metadata": {},
   "outputs": [
    {
     "name": "stdout",
     "output_type": "stream",
     "text": [
      "Input Shape:  (532480, 2, 1024, 1) \t Output Shape:  (532480, 5)\n"
     ]
    }
   ],
   "source": [
    "classes = ['32PSK',\n",
    "            '16APSK',\n",
    "            '32QAM',\n",
    "            'FM',\n",
    "            'GMSK',\n",
    "            '32APSK',\n",
    "            'OQPSK',\n",
    "            '8ASK',\n",
    "            'BPSK',\n",
    "            '8PSK',\n",
    "            'AM-SSB-SC',\n",
    "            '4ASK',\n",
    "            '16PSK',\n",
    "            '64APSK',\n",
    "            '128QAM',\n",
    "            '128APSK',\n",
    "            'AM-DSB-SC',\n",
    "            'AM-SSB-WC',\n",
    "            '64QAM',\n",
    "            'QPSK',\n",
    "            '256QAM',\n",
    "            'AM-DSB-WC',\n",
    "            'OOK',\n",
    "            '16QAM']\n",
    "\n",
    "labels = 5\n",
    "X, y = import_data(classes[:labels], path=None)\n",
    "\n",
    "print('Input Shape: ',X.shape, '\\t', 'Output Shape: ', y.shape)"
   ]
  },
  {
   "cell_type": "markdown",
   "metadata": {},
   "source": [
    "### Develop and Train Model"
   ]
  },
  {
   "cell_type": "code",
   "execution_count": 4,
   "metadata": {},
   "outputs": [],
   "source": [
    "def cnn2d(input_dim, labels):\n",
    "    ''' Function develops 2D CNN model\n",
    "    \n",
    "    Args:\n",
    "        input_dim: Dimensions of input data (2, 1024, 1)\n",
    "        labels: int for number of target labels\n",
    "        \n",
    "    Returns:\n",
    "        Model for training\n",
    "        \n",
    "    Raises:\n",
    "        None\n",
    "    '''\n",
    "    \n",
    "    kern_size = (3, 3)\n",
    "    pool_sz = (2, 2)\n",
    "    \n",
    "    x_input = Input(shape=input_dim)\n",
    "        \n",
    "    x = Conv2D(32, kern_size, padding='same')(x_input)\n",
    "    x = BatchNormalization()(x)\n",
    "    x = Activation('relu')(x)\n",
    "    x = MaxPool2D(pool_size=pool_sz, padding='same')(x)\n",
    "    \n",
    "    x = Conv2D(32, kern_size, padding='same')(x)\n",
    "    x = BatchNormalization()(x)\n",
    "    x = Activation('relu')(x)\n",
    "    x = MaxPool2D(pool_size=pool_sz, padding='same')(x)\n",
    "    \n",
    "    x = Conv2D(32, kern_size, padding='same')(x)\n",
    "    x = BatchNormalization()(x)\n",
    "    x = Activation('relu')(x)\n",
    "    x = MaxPool2D(pool_size=pool_sz, padding='same')(x)\n",
    "    \n",
    "    x = Conv2D(64, kern_size, padding='same')(x)\n",
    "    x = BatchNormalization()(x)\n",
    "    x = Activation('relu')(x)\n",
    "    x = MaxPool2D(pool_size=pool_sz, padding='same')(x)\n",
    "    \n",
    "    x = Conv2D(64, kern_size, padding='same')(x)\n",
    "    x = BatchNormalization()(x)\n",
    "    x = Activation('relu')(x)\n",
    "    x = MaxPool2D(pool_size=pool_sz, padding='same')(x)\n",
    "    \n",
    "    x = Conv2D(64, kern_size, padding='same')(x)\n",
    "    x = GlobalAveragePooling2D()(x)\n",
    "    x = Flatten()(x)\n",
    "\n",
    "    output = Dense(labels, activation='softmax')(x)\n",
    "    \n",
    "    model = tf.keras.models.Model(x_input, output)\n",
    "    model.compile(loss='categorical_crossentropy', optimizer='Adam', metrics=['accuracy'])\n",
    "    \n",
    "    return model"
   ]
  },
  {
   "cell_type": "code",
   "execution_count": 5,
   "metadata": {},
   "outputs": [],
   "source": [
    "def train_mod(model, x_train, y_train, x_test=None, y_test=None, epochs=10):\n",
    "    ''' Function fits and trains model\n",
    "    \n",
    "    Args:\n",
    "        model: Compiled model to be trained\n",
    "        x_train: input data for training\n",
    "        y_train: target data for training\n",
    "        x_test: input data for testing\n",
    "        y_test: target data for testing\n",
    "        epochs: epochs for training\n",
    "        \n",
    "    Returns:\n",
    "        Tensorflow data containing training results\n",
    "        \n",
    "    Raises:\n",
    "        None\n",
    "    '''\n",
    "    \n",
    "    if all(v is None for v in [x_test, y_test]):\n",
    "        data = model.fit(x_train, y_train, epochs=epochs)\n",
    "        \n",
    "    else:\n",
    "        data = model.fit(x_train, y_train, validation_data=(x_test, y_test), epochs=epochs)\n",
    "    \n",
    "    return data"
   ]
  },
  {
   "cell_type": "code",
   "execution_count": 6,
   "metadata": {},
   "outputs": [],
   "source": [
    "# Split data into training and evaluation\n",
    "seed(14)\n",
    "x_train, x_test, y_train, y_test = train_test_split(X, y, test_size=0.25)"
   ]
  },
  {
   "cell_type": "code",
   "execution_count": 7,
   "metadata": {},
   "outputs": [
    {
     "name": "stdout",
     "output_type": "stream",
     "text": [
      "(None, 2, 1024, 1) <dtype: 'float32'>\n",
      "(None, 5) <dtype: 'float32'>\n"
     ]
    },
    {
     "data": {
      "text/plain": [
       "[None]"
      ]
     },
     "execution_count": 7,
     "metadata": {},
     "output_type": "execute_result"
    }
   ],
   "source": [
    "model = cnn2d((2, x_train.shape[-2], 1), labels)\n",
    "\n",
    "[print(i.shape, i.dtype) for i in model.inputs]\n",
    "[print(o.shape, o.dtype) for o in model.outputs]"
   ]
  },
  {
   "cell_type": "code",
   "execution_count": 8,
   "metadata": {},
   "outputs": [
    {
     "name": "stdout",
     "output_type": "stream",
     "text": [
      "Epoch 1/5\n",
      "12480/12480 [==============================] - 352s 28ms/step - loss: 0.6171 - accuracy: 0.7074 - val_loss: 0.5800 - val_accuracy: 0.7370\n",
      "Epoch 2/5\n",
      "12480/12480 [==============================] - 354s 28ms/step - loss: 0.5496 - accuracy: 0.7386 - val_loss: 0.5434 - val_accuracy: 0.7374\n",
      "Epoch 3/5\n",
      "12480/12480 [==============================] - 355s 28ms/step - loss: 0.5365 - accuracy: 0.7450 - val_loss: 0.5325 - val_accuracy: 0.7455\n",
      "Epoch 4/5\n",
      "12480/12480 [==============================] - 355s 28ms/step - loss: 0.5289 - accuracy: 0.7493 - val_loss: 0.5214 - val_accuracy: 0.7524\n",
      "Epoch 5/5\n",
      "12480/12480 [==============================] - 357s 29ms/step - loss: 0.5225 - accuracy: 0.7525 - val_loss: 0.5095 - val_accuracy: 0.7569\n"
     ]
    }
   ],
   "source": [
    "data = train_mod(model, x_train, y_train, x_test, y_test, 5)"
   ]
  },
  {
   "cell_type": "markdown",
   "metadata": {},
   "source": [
    "### Evaluate Results"
   ]
  },
  {
   "cell_type": "code",
   "execution_count": 9,
   "metadata": {},
   "outputs": [],
   "source": [
    "def plot_results(results):\n",
    "    ''' Function plots results from model training\n",
    "    \n",
    "    Args:\n",
    "        results: output data from model.fit funtion\n",
    "        \n",
    "    Returns:\n",
    "        None\n",
    "        \n",
    "    Raises:\n",
    "        None\n",
    "        \n",
    "    '''\n",
    "    \n",
    "    loss = results.history.get('loss')\n",
    "    acc = results.history.get('accuracy')\n",
    "    val_loss = results.history.get('val_loss')\n",
    "    val_acc = results.history.get('val_accuracy')\n",
    "    \n",
    "    fig, axs = plt.subplots(2,1, figsize=(16,12))\n",
    "    plt.sca(axs[0])\n",
    "    plt.plot(range(len(loss)), loss, color='r', label='Training Loss')\n",
    "    plt.plot(range(len(val_loss)), val_loss, color='b',label='Validation Loss')\n",
    "    plt.legend()\n",
    "    axs[0].set_xlabel('Epochs')\n",
    "    axs[0].set_ylabel('Loss')\n",
    "    plt.grid()\n",
    "\n",
    "    plt.sca(axs[1])\n",
    "    plt.plot(range(len(acc)), acc, color='r', label = 'Training Accuracy')\n",
    "    plt.plot(range(len(val_acc)), val_acc, color='b', label='Validation Accuracy')\n",
    "    plt.legend()\n",
    "    axs[1].set_xlabel('Epochs')\n",
    "    axs[1].set_ylabel('Accuracy')\n",
    "    plt.grid()\n",
    "\n",
    "    plt.show()\n",
    "    \n",
    "    return None"
   ]
  },
  {
   "cell_type": "code",
   "execution_count": 10,
   "metadata": {},
   "outputs": [
    {
     "data": {
      "image/png": "[encoded data removed]",
      "text/plain": [
       "<Figure size 1152x864 with 2 Axes>"
      ]
     },
     "metadata": {
      "needs_background": "light"
     },
     "output_type": "display_data"
    }
   ],
   "source": [
    "plot_results(data)"
   ]
  },
  {
   "cell_type": "markdown",
   "metadata": {},
   "source": [
    "Accuracy tapers. Adjustments to model are necessary to improve results."
   ]
  },
  {
   "cell_type": "code",
   "execution_count": 11,
   "metadata": {},
   "outputs": [],
   "source": [
    "tf.keras.backend.clear_session()"
   ]
  }
 ],
 "metadata": {
  "kernelspec": {
   "display_name": "Python 3",
   "language": "python",
   "name": "python3"
  },
  "language_info": {
   "codemirror_mode": {
    "name": "ipython",
    "version": 3
   },
   "file_extension": ".py",
   "mimetype": "text/x-python",
   "name": "python",
   "nbconvert_exporter": "python",
   "pygments_lexer": "ipython3",
   "version": "3.8.5"
  }
 },
 "nbformat": 4,
 "nbformat_minor": 4
}
