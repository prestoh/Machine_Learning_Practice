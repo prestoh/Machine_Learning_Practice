{
 "cells": [
  {
   "cell_type": "markdown",
   "metadata": {},
   "source": [
    "# Preprocessing of RADIOML 2018 Dataset\n",
    "    Adjusts shape to (None, 2, X, 1) for data, where x is of 1024 or 128."
   ]
  },
  {
   "cell_type": "code",
   "execution_count": null,
   "metadata": {},
   "outputs": [],
   "source": [
    "import h5py\n",
    "import numpy as np\n",
    "import os\n",
    "import tensorflow as tf"
   ]
  },
  {
   "cell_type": "code",
   "execution_count": null,
   "metadata": {},
   "outputs": [],
   "source": [
    "# RadioML classes\n",
    "classes = ['32PSK',\n",
    "            '16APSK',\n",
    "            '32QAM',\n",
    "            'FM',\n",
    "            'GMSK',\n",
    "            '32APSK',\n",
    "            'OQPSK',\n",
    "            '8ASK',\n",
    "            'BPSK',\n",
    "            '8PSK',\n",
    "            'AM-SSB-SC',\n",
    "            '4ASK',\n",
    "            '16PSK',\n",
    "            '64APSK',\n",
    "            '128QAM',\n",
    "            '128APSK',\n",
    "            'AM-DSB-SC',\n",
    "            'AM-SSB-WC',\n",
    "            '64QAM',\n",
    "            'QPSK',\n",
    "            '256QAM',\n",
    "            'AM-DSB-WC',\n",
    "            'OOK',\n",
    "            '16QAM']"
   ]
  },
  {
   "cell_type": "code",
   "execution_count": null,
   "metadata": {},
   "outputs": [],
   "source": [
    "# Import RadioML dataset\n",
    "filename = '../Data/2018.01/GOLD_XYZ_OSC.0001_1024.hdf5'\n",
    "with h5py.File(filename, \"r\") as f:\n",
    "    print(\"Keys: %s\" % f.keys())\n",
    "    a_group_key = list(f.keys())[0]\n",
    "    b_group_key = list(f.keys())[1]\n",
    "    c_group_key = list(f.keys())[2]\n",
    "\n",
    "    data_x = list(f[a_group_key])\n",
    "    label_y = list(f[b_group_key])\n",
    "    z_data = list(f[c_group_key])"
   ]
  },
  {
   "cell_type": "code",
   "execution_count": null,
   "metadata": {},
   "outputs": [],
   "source": [
    "def chunk_data(data, labels, k_start, classes, path=None):\n",
    "    '''\n",
    "    Breaks up large RADIO ML dataset into useable slices of each class\n",
    "    \n",
    "    \n",
    "    Args:\n",
    "        data: full RFML dataset\n",
    "        labels: full RFML dataset \"Y\" values\n",
    "        k_start: int 0-23 for selecting the starting class\n",
    "        classes: list containing each class\n",
    "        path: path for output files\n",
    "        \n",
    "    Returns:\n",
    "        The generic filename for the location of the chunked data.\n",
    "        \n",
    "    Raises:\n",
    "        None\n",
    "    \n",
    "    '''\n",
    "    \n",
    "    k_start = k_start * 106496\n",
    "    k_end = k_start + 106496\n",
    "\n",
    "    I_v = []\n",
    "    Q_v = []\n",
    "    Dt = []\n",
    "    label = []\n",
    "    k = 0\n",
    "    c_name = classes[int(k_start / 106496)]\n",
    "    \n",
    "    for val in data:\n",
    "        \n",
    "        if k >= k_start:\n",
    "            Dt.append(val)\n",
    "            label.append(labels[k])\n",
    "        \n",
    "        k += 1\n",
    "\n",
    "        if k >= k_end:\n",
    "            break\n",
    "            \n",
    "    if path == None:\n",
    "        filename = '../Data/RFML_Data/' + c_name +'_1024' + '.hdf5'\n",
    "    else:\n",
    "        filename = path + '/' + c_name +'_1024' + '.hdf5'\n",
    "    \n",
    "    with h5py.File(filename, 'a') as hf:\n",
    "        hf.create_dataset(\"D\", data=Dt)\n",
    "        hf.create_dataset(\"Label\", data=label)\n",
    "        \n",
    "    return filename"
   ]
  },
  {
   "cell_type": "code",
   "execution_count": null,
   "metadata": {},
   "outputs": [],
   "source": [
    "fname = chunk_data(data_x, label_y, 23, classes)"
   ]
  },
  {
   "cell_type": "code",
   "execution_count": null,
   "metadata": {},
   "outputs": [],
   "source": [
    "fname = '../Data/RFML_Data/' + classes[1]+'_1024.hdf5'\n",
    "with h5py.File(fname, \"r\") as f:\n",
    "    print(\"Keys: %s\" % f.keys())\n",
    "    a_group_key = list(f.keys())[0]\n",
    "    b_group_key = list(f.keys())[1]\n",
    "\n",
    "    D_data = list(f[a_group_key])\n",
    "    L_data = list(f[b_group_key])"
   ]
  },
  {
   "cell_type": "code",
   "execution_count": null,
   "metadata": {},
   "outputs": [],
   "source": [
    "D_data[0][0]"
   ]
  },
  {
   "cell_type": "code",
   "execution_count": null,
   "metadata": {},
   "outputs": [],
   "source": [
    "def reshape(classes, c_num, samples=1024, path=None, end_path=None):\n",
    "    '''\n",
    "    Converts sliced dataset into proper shape for model.\n",
    "    Adjust fname and filename as necessary for locations of files.\n",
    "    \n",
    "    \n",
    "    Args:\n",
    "        Classes: ordered list of classes\n",
    "        c_num: number of class wished to reshape (value from 0-23)\n",
    "        samples: sample size to resturcture the data to\n",
    "        path: path for input files\n",
    "        end_path: path for output files\n",
    "        \n",
    "    Returns:\n",
    "        The generic filename for the location of the reshaped data.\n",
    "        \n",
    "    Raises:\n",
    "        None\n",
    "    \n",
    "    '''\n",
    "    \n",
    "    le = 106496\n",
    "    I_v = []\n",
    "    Q_v = []\n",
    "    \n",
    "    label = []\n",
    "    k = 0\n",
    "    \n",
    "    c_name = classes[c_num]\n",
    "    \n",
    "    if path == None:\n",
    "        fname = '../Data/RFML_Data/' + classes[c_num]+'_1024.hdf5'\n",
    "    else:\n",
    "        fname = path + '/' + classes[c_num]+'_1024.hdf5'\n",
    "    \n",
    "    with h5py.File(fname, \"r\") as f:\n",
    "        a_group_key = list(f.keys())[0]\n",
    "        b_group_key = list(f.keys())[1]\n",
    "\n",
    "        data = list(f[a_group_key])\n",
    "        labels = list(f[b_group_key])\n",
    "\n",
    "    \n",
    "    for val in data:\n",
    "\n",
    "        for i in range(samples):\n",
    "            I_v.append(val[i][0])\n",
    "            Q_v.append(val[i][1])\n",
    "                \n",
    "        label.append(labels[k])\n",
    "        \n",
    "        k += 1    \n",
    "        \n",
    "    I_v = tf.reshape(I_v, (le, samples)) # Reshape to form (None, 1024)\n",
    "    Q_v = tf.reshape(Q_v, (le, samples))\n",
    "    data_new = np.concatenate((I_v, Q_v), -1) # Concat after each row to shape (None, 2048)\n",
    "    data_new = tf.reshape(data_new, (le, 2, samples, 1))\n",
    "\n",
    "    if end_path == None:\n",
    "        filename = '../Data/RFML_Data/RS_' + str(samples) + '/' + c_name +'_'+ str(samples)\n",
    "    else:\n",
    "        filename = end_path + '/' + c_name +'_'+ str(samples)\n",
    "    \n",
    "    np.save(filename+'_D', data_new)\n",
    "    np.save(filename+'_L', label)\n",
    "\n",
    "    return filename"
   ]
  },
  {
   "cell_type": "code",
   "execution_count": null,
   "metadata": {},
   "outputs": [],
   "source": [
    "file = reshape(classes, 0, 1024)"
   ]
  },
  {
   "cell_type": "code",
   "execution_count": null,
   "metadata": {},
   "outputs": [],
   "source": [
    "for i in range(1,24):\n",
    "    file = reshape(classes, i, 1024)"
   ]
  },
  {
   "cell_type": "code",
   "execution_count": null,
   "metadata": {},
   "outputs": [],
   "source": [
    "l = os.listdir('../Data/RFML_Data/RS_1024')\n",
    "len(l)"
   ]
  }
 ],
 "metadata": {
  "interpreter": {
   "hash": "767d51c1340bd893661ea55ea3124f6de3c7a262a8b4abca0554b478b1e2ff90"
  },
  "kernelspec": {
   "display_name": "Python 3",
   "language": "python",
   "name": "python3"
  },
  "language_info": {
   "codemirror_mode": {
    "name": "ipython",
    "version": 3
   },
   "file_extension": ".py",
   "mimetype": "text/x-python",
   "name": "python",
   "nbconvert_exporter": "python",
   "pygments_lexer": "ipython3",
   "version": "3.8.5"
  }
 },
 "nbformat": 4,
 "nbformat_minor": 5
}
