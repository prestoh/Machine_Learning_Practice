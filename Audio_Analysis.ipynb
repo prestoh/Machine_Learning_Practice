{
  "nbformat": 4,
  "nbformat_minor": 0,
  "metadata": {
    "colab": {
      "name": "Audio_Analysis.ipynb",
      "provenance": [],
      "toc_visible": true
    },
    "kernelspec": {
      "name": "python3",
      "display_name": "Python 3"
    }
  },
  "cells": [
    {
      "cell_type": "markdown",
      "metadata": {
        "id": "wv1721yIRg-S",
        "colab_type": "text"
      },
      "source": [
        "# Import Libraries"
      ]
    },
    {
      "cell_type": "code",
      "metadata": {
        "id": "Gce9Q-GVxjlH",
        "colab_type": "code",
        "colab": {}
      },
      "source": [
        "import matplotlib.pyplot as plt\n",
        "import numpy as np\n",
        "import pandas as pd\n",
        "import librosa, librosa.display\n",
        "from sklearn.model_selection import train_test_split\n",
        "import os\n",
        "import json\n",
        "\n",
        "import tensorflow as tf\n",
        "from tensorflow import keras"
      ],
      "execution_count": 1,
      "outputs": []
    },
    {
      "cell_type": "markdown",
      "metadata": {
        "id": "SN1zzIIpRogV",
        "colab_type": "text"
      },
      "source": [
        "# Gather Data"
      ]
    },
    {
      "cell_type": "code",
      "metadata": {
        "id": "r-JOdRaPRmga",
        "colab_type": "code",
        "colab": {}
      },
      "source": [
        "sr = 22050\n",
        "train_csv = pd.read_csv('drive/My Drive/freesound-audio-tagging/train.csv')\n",
        "train_csv2 = pd.read_csv('drive/My Drive/freesound-audio-tagging/train_post_competition.csv')\n",
        "\n",
        "test_csv = pd.read_csv('drive/My Drive/freesound-audio-tagging/test_post_competition.csv')"
      ],
      "execution_count": 2,
      "outputs": []
    },
    {
      "cell_type": "code",
      "metadata": {
        "id": "EBXpTLO3R1Xs",
        "colab_type": "code",
        "colab": {
          "base_uri": "https://localhost:8080/",
          "height": 137
        },
        "outputId": "296ab022-e5dd-4def-86ba-7a271aa39287"
      },
      "source": [
        "train_csv2.head(3)"
      ],
      "execution_count": 3,
      "outputs": [
        {
          "output_type": "execute_result",
          "data": {
            "text/html": [
              "<div>\n",
              "<style scoped>\n",
              "    .dataframe tbody tr th:only-of-type {\n",
              "        vertical-align: middle;\n",
              "    }\n",
              "\n",
              "    .dataframe tbody tr th {\n",
              "        vertical-align: top;\n",
              "    }\n",
              "\n",
              "    .dataframe thead th {\n",
              "        text-align: right;\n",
              "    }\n",
              "</style>\n",
              "<table border=\"1\" class=\"dataframe\">\n",
              "  <thead>\n",
              "    <tr style=\"text-align: right;\">\n",
              "      <th></th>\n",
              "      <th>fname</th>\n",
              "      <th>label</th>\n",
              "      <th>manually_verified</th>\n",
              "      <th>freesound_id</th>\n",
              "      <th>license</th>\n",
              "    </tr>\n",
              "  </thead>\n",
              "  <tbody>\n",
              "    <tr>\n",
              "      <th>0</th>\n",
              "      <td>00044347.wav</td>\n",
              "      <td>Hi-hat</td>\n",
              "      <td>0</td>\n",
              "      <td>28739</td>\n",
              "      <td>Attribution</td>\n",
              "    </tr>\n",
              "    <tr>\n",
              "      <th>1</th>\n",
              "      <td>001ca53d.wav</td>\n",
              "      <td>Saxophone</td>\n",
              "      <td>1</td>\n",
              "      <td>358827</td>\n",
              "      <td>Attribution</td>\n",
              "    </tr>\n",
              "    <tr>\n",
              "      <th>2</th>\n",
              "      <td>002d256b.wav</td>\n",
              "      <td>Trumpet</td>\n",
              "      <td>0</td>\n",
              "      <td>10897</td>\n",
              "      <td>Creative Commons 0</td>\n",
              "    </tr>\n",
              "  </tbody>\n",
              "</table>\n",
              "</div>"
            ],
            "text/plain": [
              "          fname      label  manually_verified  freesound_id             license\n",
              "0  00044347.wav     Hi-hat                  0         28739         Attribution\n",
              "1  001ca53d.wav  Saxophone                  1        358827         Attribution\n",
              "2  002d256b.wav    Trumpet                  0         10897  Creative Commons 0"
            ]
          },
          "metadata": {
            "tags": []
          },
          "execution_count": 3
        }
      ]
    },
    {
      "cell_type": "code",
      "metadata": {
        "id": "DPsZPCV7Tug-",
        "colab_type": "code",
        "colab": {
          "base_uri": "https://localhost:8080/",
          "height": 100
        },
        "outputId": "ffa49ed6-3ecc-45b3-de23-3148be4eb860"
      },
      "source": [
        "labels = train_csv2['label'].to_numpy()\n",
        "unique_labels = np.unique(labels)\n",
        "print(unique_labels.shape)\n",
        "boolean_labels = [label == unique_labels for label in labels]\n",
        "print(len(boolean_labels))\n",
        "print(boolean_labels[0].astype(int))\n",
        "print(type(boolean_labels))\n"
      ],
      "execution_count": 4,
      "outputs": [
        {
          "output_type": "stream",
          "text": [
            "(41,)\n",
            "9473\n",
            "[0 0 0 0 0 0 0 0 0 0 0 0 0 0 0 0 0 0 0 0 0 0 0 1 0 0 0 0 0 0 0 0 0 0 0 0 0\n",
            " 0 0 0 0]\n",
            "<class 'list'>\n"
          ],
          "name": "stdout"
        }
      ]
    },
    {
      "cell_type": "markdown",
      "metadata": {
        "id": "ZYvnCwjRS2cm",
        "colab_type": "text"
      },
      "source": [
        "# Load Audio files and preprocess"
      ]
    },
    {
      "cell_type": "code",
      "metadata": {
        "id": "nYfqEaTOS7AZ",
        "colab_type": "code",
        "colab": {}
      },
      "source": [
        "def save_mfcc(dataset, n_mfcc=13, n_fft=2048, hop_length=512, train=True):\n",
        "  #selects training or test data set\n",
        "  if train == False:\n",
        "    os.chdir('/content/drive/My Drive/freesound-audio-tagging/audio_test')\n",
        "  else:\n",
        "    os.chdir('/content/drive/My Drive/freesound-audio-tagging/audio_train')\n",
        "\n",
        "  temp_mfcc = []\n",
        "  i=0\n",
        "  for fname in dataset['fname']:\n",
        "    signal, sr = librosa.load(fname)\n",
        "    mfcc = librosa.feature.mfcc(signal, sr=sr,\n",
        "                                n_mfcc=13, \n",
        "                                n_fft=2048, \n",
        "                                hop_length=512)\n",
        "    mfcc = mfcc.T.tolist()\n",
        "    temp_mfcc.append(mfcc)\n",
        "    i += 1\n",
        "    # if i > 10:\n",
        "    #   break\n",
        "    if i % 500 == 0:\n",
        "      print(i)\n",
        "\n",
        "\n",
        "  js = {'mfcc': temp_mfcc}\n",
        "  if train==True:\n",
        "    os.chdir('/content/drive/My Drive/freesound-audio-tagging')\n",
        "    with open('saved_mfcc1.json', 'w') as json_file:\n",
        "      json.dump(js, json_file)\n",
        "  else:\n",
        "    os.chdir('/content/drive/My Drive/freesound-audio-tagging')\n",
        "    with open('test_mfcc.json', 'w') as json_file:\n",
        "      json.dump(js, json_file)"
      ],
      "execution_count": 27,
      "outputs": []
    },
    {
      "cell_type": "code",
      "metadata": {
        "id": "Fbioi399r1Fs",
        "colab_type": "code",
        "colab": {}
      },
      "source": [
        "# # ET. 3.5 hours. Saved into updated.csv \n",
        "# save_mfcc(train_csv2)"
      ],
      "execution_count": 6,
      "outputs": []
    },
    {
      "cell_type": "markdown",
      "metadata": {
        "id": "IPUGKSrKhaEj",
        "colab_type": "text"
      },
      "source": [
        "# Load Data and Prepare data"
      ]
    },
    {
      "cell_type": "code",
      "metadata": {
        "id": "jMBiJ9ncVkaz",
        "colab_type": "code",
        "colab": {}
      },
      "source": [
        "# # Load Completed Mfcc Data\n",
        "# os.chdir('/content/drive/My Drive/freesound-audio-tagging')\n",
        "# with open('saved_mfcc.json', 'r') as fp:\n",
        "#     updated_data = json.load(fp)"
      ],
      "execution_count": 7,
      "outputs": []
    },
    {
      "cell_type": "code",
      "metadata": {
        "id": "q7TqreBq0L-A",
        "colab_type": "code",
        "colab": {}
      },
      "source": [
        "# Find the longest instance for padding\n",
        "def longest(l):\n",
        "  '''\n",
        "  l = list of matrices\n",
        "  '''\n",
        "    if not isinstance(l, list):\n",
        "        return 0\n",
        "    return max([len(subl) for subl in l if isinstance(subl, list)] \n",
        "            + [longest(subl) for subl in l])"
      ],
      "execution_count": 8,
      "outputs": []
    },
    {
      "cell_type": "code",
      "metadata": {
        "id": "4z5pSgVV4caf",
        "colab_type": "code",
        "colab": {}
      },
      "source": [
        "# max_len = longest(updated_data['mfcc'])\n",
        "# print(max_len) # Output: 1292"
      ],
      "execution_count": 9,
      "outputs": []
    },
    {
      "cell_type": "code",
      "metadata": {
        "id": "qPLfVtu-6rRK",
        "colab_type": "code",
        "colab": {}
      },
      "source": [
        "# Prepare data by padding it\n",
        "def pad_data(data, longest):\n",
        "  '''\n",
        "  data = mfcc data\n",
        "  longest = longest matrix in the mfcc data \n",
        "  '''\n",
        "  new_data=[]\n",
        "  for mfcc in data['mfcc']:\n",
        "    leng = len(mfcc)\n",
        "    s = mfcc\n",
        "    if leng < longest:\n",
        "      s += [[0.]*13 for i in range(longest - leng)]\n",
        "      # mfcc.append(s)\n",
        "    new_data.append(s)\n",
        "  new_js = {'mfcc': new_data}\n",
        "\n",
        "  os.chdir('/content/drive/My Drive/freesound-audio-tagging')\n",
        "  with open('mfcc_padded.json', 'w') as json_file:\n",
        "    json.dump(new_js, json_file)\n",
        "  return new_js"
      ],
      "execution_count": 10,
      "outputs": []
    },
    {
      "cell_type": "code",
      "metadata": {
        "id": "q1ac-9ig7sZS",
        "colab_type": "code",
        "colab": {}
      },
      "source": [
        "# # Pad Data Func Call. est 1 min\n",
        "# new_js = pad_data(updated_data, max_len)\n",
        "\n",
        "# Load Padded data\n",
        "os.chdir('/content/drive/My Drive/freesound-audio-tagging')\n",
        "with open('mfcc_padded.json', 'r') as fp:\n",
        "    new_js = json.load(fp)"
      ],
      "execution_count": 11,
      "outputs": []
    },
    {
      "cell_type": "code",
      "metadata": {
        "id": "L3f6loL_Cz2q",
        "colab_type": "code",
        "colab": {}
      },
      "source": [
        "# check to make sure all data is of the same size\n",
        "def size_check(new_data):\n",
        "  temp = []\n",
        "  for i in range(0, len(new_data['mfcc'])):\n",
        "    temp.append(len(new_data['mfcc'][i]))\n",
        "  return set(temp)\n",
        "\n",
        "# # Run the Check\n",
        "# size_check(new_js)  # output 1292"
      ],
      "execution_count": 12,
      "outputs": []
    },
    {
      "cell_type": "code",
      "metadata": {
        "id": "QHwr4BY_DXAW",
        "colab_type": "code",
        "colab": {}
      },
      "source": [
        "# Save test data into X and Y for Classification\n",
        "X = np.array(new_js['mfcc'])\n",
        "y = np.array(boolean_labels)"
      ],
      "execution_count": 13,
      "outputs": []
    },
    {
      "cell_type": "code",
      "metadata": {
        "id": "jyIfGmKma_67",
        "colab_type": "code",
        "colab": {}
      },
      "source": [
        "# Input train test split, Using as testing data prior to utilizing the test folder\n",
        "X_train, X_test, y_train, y_test = train_test_split(X, y, test_size=0.2)"
      ],
      "execution_count": 14,
      "outputs": []
    },
    {
      "cell_type": "markdown",
      "metadata": {
        "id": "1fBYKo4K4Nix",
        "colab_type": "text"
      },
      "source": [
        "# Create and Fit model"
      ]
    },
    {
      "cell_type": "code",
      "metadata": {
        "id": "X6iMFkSM6oxj",
        "colab_type": "code",
        "colab": {}
      },
      "source": [
        "# relu- Rectified Linier Unit\n",
        "model = keras.Sequential([\n",
        "        # input layer Flatten the Input size\n",
        "        keras.layers.Flatten(input_shape=(X.shape[1], X.shape[2])),\n",
        "\n",
        "        # 3 dense layers\n",
        "        keras.layers.Dense(1024, activation='relu'),\n",
        "        keras.layers.Dense(512, activation='relu'),\n",
        "        keras.layers.Dense(256, activation='relu'),\n",
        "        \n",
        "        # output layer. Softmax normalizes\n",
        "        keras.layers.Dense(41, activation='softmax')\n",
        "])"
      ],
      "execution_count": 21,
      "outputs": []
    },
    {
      "cell_type": "code",
      "metadata": {
        "id": "_2p-NkqdcY3C",
        "colab_type": "code",
        "colab": {
          "base_uri": "https://localhost:8080/",
          "height": 317
        },
        "outputId": "f2a35d5f-77da-45e4-d3dc-74d102239a5d"
      },
      "source": [
        "# compile model. Adam effective for deep learning.\n",
        "optimizer = keras.optimizers.Adam(learning_rate=0.0001)\n",
        "model.compile(optimizer=optimizer, loss='categorical_crossentropy', metrics=['accuracy'])\n",
        "model.summary()"
      ],
      "execution_count": 22,
      "outputs": [
        {
          "output_type": "stream",
          "text": [
            "Model: \"sequential_2\"\n",
            "_________________________________________________________________\n",
            "Layer (type)                 Output Shape              Param #   \n",
            "=================================================================\n",
            "flatten_2 (Flatten)          (None, 16796)             0         \n",
            "_________________________________________________________________\n",
            "dense_9 (Dense)              (None, 1024)              17200128  \n",
            "_________________________________________________________________\n",
            "dense_10 (Dense)             (None, 512)               524800    \n",
            "_________________________________________________________________\n",
            "dense_11 (Dense)             (None, 256)               131328    \n",
            "_________________________________________________________________\n",
            "dense_12 (Dense)             (None, 41)                10537     \n",
            "=================================================================\n",
            "Total params: 17,866,793\n",
            "Trainable params: 17,866,793\n",
            "Non-trainable params: 0\n",
            "_________________________________________________________________\n"
          ],
          "name": "stdout"
        }
      ]
    },
    {
      "cell_type": "code",
      "metadata": {
        "id": "af_yocoLd5Hi",
        "colab_type": "code",
        "colab": {
          "base_uri": "https://localhost:8080/",
          "height": 1000
        },
        "outputId": "41b47b15-2e35-4f0d-ef5a-3b9cef285351"
      },
      "source": [
        "#Fit the model\n",
        "#model.fit(X_train, y_train, validation_data=(X_test, y_test), batch_size=32, epochs=50)\n",
        "# model.fit(X, y, batch_size=32, epochs=50) # 50th Epoch - loss: 0.6385 - accuracy: 0.8322"
      ],
      "execution_count": 23,
      "outputs": [
        {
          "output_type": "stream",
          "text": [
            "Epoch 1/50\n",
            "297/297 [==============================] - 35s 119ms/step - loss: 12.0482 - accuracy: 0.1953\n",
            "Epoch 2/50\n",
            "297/297 [==============================] - 35s 116ms/step - loss: 2.8822 - accuracy: 0.3032\n",
            "Epoch 3/50\n",
            "297/297 [==============================] - 35s 119ms/step - loss: 2.3897 - accuracy: 0.4047\n",
            "Epoch 4/50\n",
            "297/297 [==============================] - 34s 116ms/step - loss: 2.3031 - accuracy: 0.4233\n",
            "Epoch 5/50\n",
            "297/297 [==============================] - 35s 118ms/step - loss: 2.0222 - accuracy: 0.4871\n",
            "Epoch 6/50\n",
            "297/297 [==============================] - 35s 118ms/step - loss: 1.8684 - accuracy: 0.5141\n",
            "Epoch 7/50\n",
            "297/297 [==============================] - 35s 117ms/step - loss: 1.9485 - accuracy: 0.4975\n",
            "Epoch 8/50\n",
            "297/297 [==============================] - 34s 114ms/step - loss: 1.6914 - accuracy: 0.5698\n",
            "Epoch 9/50\n",
            "297/297 [==============================] - 34s 113ms/step - loss: 1.6868 - accuracy: 0.5741\n",
            "Epoch 10/50\n",
            "297/297 [==============================] - 34s 114ms/step - loss: 1.5222 - accuracy: 0.6134\n",
            "Epoch 11/50\n",
            "297/297 [==============================] - 35s 117ms/step - loss: 1.4749 - accuracy: 0.6211\n",
            "Epoch 12/50\n",
            "297/297 [==============================] - 35s 118ms/step - loss: 1.3913 - accuracy: 0.6399\n",
            "Epoch 13/50\n",
            "297/297 [==============================] - 35s 118ms/step - loss: 1.3006 - accuracy: 0.6660\n",
            "Epoch 14/50\n",
            "297/297 [==============================] - 36s 122ms/step - loss: 1.3948 - accuracy: 0.6393\n",
            "Epoch 15/50\n",
            "297/297 [==============================] - 37s 126ms/step - loss: 1.2404 - accuracy: 0.6810\n",
            "Epoch 16/50\n",
            "297/297 [==============================] - 36s 122ms/step - loss: 1.2178 - accuracy: 0.6858\n",
            "Epoch 17/50\n",
            "297/297 [==============================] - 37s 123ms/step - loss: 1.1673 - accuracy: 0.6978\n",
            "Epoch 18/50\n",
            "297/297 [==============================] - 37s 126ms/step - loss: 1.1497 - accuracy: 0.7006\n",
            "Epoch 19/50\n",
            "297/297 [==============================] - 37s 125ms/step - loss: 1.1557 - accuracy: 0.7022\n",
            "Epoch 20/50\n",
            "297/297 [==============================] - 37s 125ms/step - loss: 1.0683 - accuracy: 0.7221\n",
            "Epoch 21/50\n",
            "297/297 [==============================] - 37s 124ms/step - loss: 1.1075 - accuracy: 0.7197\n",
            "Epoch 22/50\n",
            "297/297 [==============================] - 35s 119ms/step - loss: 1.3134 - accuracy: 0.7007\n",
            "Epoch 23/50\n",
            "297/297 [==============================] - 36s 122ms/step - loss: 1.0086 - accuracy: 0.7401\n",
            "Epoch 24/50\n",
            "297/297 [==============================] - 36s 122ms/step - loss: 0.9780 - accuracy: 0.7511\n",
            "Epoch 25/50\n",
            "297/297 [==============================] - 36s 121ms/step - loss: 0.9429 - accuracy: 0.7517\n",
            "Epoch 26/50\n",
            "297/297 [==============================] - 35s 119ms/step - loss: 1.0312 - accuracy: 0.7330\n",
            "Epoch 27/50\n",
            "297/297 [==============================] - 35s 119ms/step - loss: 0.9383 - accuracy: 0.7573\n",
            "Epoch 28/50\n",
            "297/297 [==============================] - 35s 119ms/step - loss: 0.8868 - accuracy: 0.7720\n",
            "Epoch 29/50\n",
            "297/297 [==============================] - 35s 118ms/step - loss: 0.8419 - accuracy: 0.7786\n",
            "Epoch 30/50\n",
            "297/297 [==============================] - 35s 118ms/step - loss: 0.8356 - accuracy: 0.7831\n",
            "Epoch 31/50\n",
            "297/297 [==============================] - 36s 120ms/step - loss: 1.0108 - accuracy: 0.7427\n",
            "Epoch 32/50\n",
            "297/297 [==============================] - 36s 121ms/step - loss: 0.8394 - accuracy: 0.7767\n",
            "Epoch 33/50\n",
            "297/297 [==============================] - 35s 116ms/step - loss: 0.7971 - accuracy: 0.7881\n",
            "Epoch 34/50\n",
            "297/297 [==============================] - 34s 114ms/step - loss: 0.9201 - accuracy: 0.7618\n",
            "Epoch 35/50\n",
            "297/297 [==============================] - 34s 115ms/step - loss: 0.8501 - accuracy: 0.7821\n",
            "Epoch 36/50\n",
            "297/297 [==============================] - 35s 117ms/step - loss: 0.7332 - accuracy: 0.8054\n",
            "Epoch 37/50\n",
            "297/297 [==============================] - 35s 117ms/step - loss: 0.7230 - accuracy: 0.8077\n",
            "Epoch 38/50\n",
            "297/297 [==============================] - 35s 117ms/step - loss: 0.7649 - accuracy: 0.8015\n",
            "Epoch 39/50\n",
            "297/297 [==============================] - 34s 116ms/step - loss: 0.7993 - accuracy: 0.7876\n",
            "Epoch 40/50\n",
            "297/297 [==============================] - 34s 115ms/step - loss: 0.7157 - accuracy: 0.8105\n",
            "Epoch 41/50\n",
            "297/297 [==============================] - 34s 116ms/step - loss: 0.6925 - accuracy: 0.8175\n",
            "Epoch 42/50\n",
            "297/297 [==============================] - 34s 115ms/step - loss: 0.7186 - accuracy: 0.8156\n",
            "Epoch 43/50\n",
            "297/297 [==============================] - 34s 113ms/step - loss: 0.6961 - accuracy: 0.8146\n",
            "Epoch 44/50\n",
            "297/297 [==============================] - 34s 114ms/step - loss: 0.6820 - accuracy: 0.8185\n",
            "Epoch 45/50\n",
            "297/297 [==============================] - 34s 114ms/step - loss: 0.7738 - accuracy: 0.8038\n",
            "Epoch 46/50\n",
            "297/297 [==============================] - 34s 115ms/step - loss: 0.6344 - accuracy: 0.8314\n",
            "Epoch 47/50\n",
            "297/297 [==============================] - 34s 114ms/step - loss: 0.6307 - accuracy: 0.8336\n",
            "Epoch 48/50\n",
            "297/297 [==============================] - 34s 114ms/step - loss: 0.7264 - accuracy: 0.8178\n",
            "Epoch 49/50\n",
            "297/297 [==============================] - 34s 114ms/step - loss: 0.7059 - accuracy: 0.8242\n",
            "Epoch 50/50\n",
            "297/297 [==============================] - 34s 116ms/step - loss: 0.6385 - accuracy: 0.8322\n"
          ],
          "name": "stdout"
        },
        {
          "output_type": "execute_result",
          "data": {
            "text/plain": [
              "<tensorflow.python.keras.callbacks.History at 0x7f5bf0520b38>"
            ]
          },
          "metadata": {
            "tags": []
          },
          "execution_count": 23
        }
      ]
    },
    {
      "cell_type": "markdown",
      "metadata": {
        "id": "iA2hF2tbIFtg",
        "colab_type": "text"
      },
      "source": [
        "Accuracy is okay, loss is high.\n",
        "Will test model against test data."
      ]
    },
    {
      "cell_type": "code",
      "metadata": {
        "id": "GohbJJMxoK3B",
        "colab_type": "code",
        "colab": {}
      },
      "source": [
        "# # Save model\n",
        "# model.save('/content/drive/My Drive/freesound-audio-tagging/trained_model_1.h5')"
      ],
      "execution_count": 24,
      "outputs": []
    },
    {
      "cell_type": "code",
      "metadata": {
        "id": "eNRt9YJ4HBKV",
        "colab_type": "code",
        "colab": {}
      },
      "source": [
        "# Load Model\n",
        "new_model = keras.models.load_model('/content/drive/My Drive/freesound-audio-tagging/trained_model_1.h5')"
      ],
      "execution_count": 25,
      "outputs": []
    },
    {
      "cell_type": "markdown",
      "metadata": {
        "id": "DjhiFsRVITg2",
        "colab_type": "text"
      },
      "source": [
        "# Evaluating Model against Test Data (Unfinished)"
      ]
    },
    {
      "cell_type": "code",
      "metadata": {
        "id": "gnEoQIPDIV-X",
        "colab_type": "code",
        "colab": {}
      },
      "source": [
        "test_labels = test_csv['label'].to_numpy()\n",
        "unique_test_labels = np.unique(test_labels)\n",
        "boolean_test_labels = [label == unique_labels for label in test_labels]"
      ],
      "execution_count": 29,
      "outputs": []
    },
    {
      "cell_type": "code",
      "metadata": {
        "id": "SWFDub7DPkEg",
        "colab_type": "code",
        "colab": {}
      },
      "source": [
        "# save_mfcc(test_csv, train=False)"
      ],
      "execution_count": 31,
      "outputs": []
    }
  ]
}